{
  "nbformat": 4,
  "nbformat_minor": 0,
  "metadata": {
    "colab": {
      "provenance": [],
      "gpuType": "T4"
    },
    "kernelspec": {
      "name": "python3",
      "display_name": "Python 3"
    },
    "language_info": {
      "name": "python"
    },
    "accelerator": "GPU"
  },
  "cells": [
    {
      "cell_type": "markdown",
      "source": [
        "# **DEEP LEARNING EXAM**\n",
        "\n",
        "---\n",
        "\n",
        "\n",
        "Name: NTEGANO Bahenda Yvon Dylan \\\n",
        "ID:     515657"
      ],
      "metadata": {
        "id": "1Z26LP439U55"
      }
    },
    {
      "cell_type": "markdown",
      "source": [
        "# IMPORTS"
      ],
      "metadata": {
        "id": "uhiukUGG8Ooi"
      }
    },
    {
      "cell_type": "markdown",
      "source": [
        "\n",
        "Import of the libraries that will be used throughout the project."
      ],
      "metadata": {
        "id": "GYS_nKXAzffC"
      }
    },
    {
      "cell_type": "code",
      "source": [
        "# ! pip install --upgrade tensorflow\n",
        "\n",
        "# Sometimes errors were raised due to tensorflow version but it should not\n",
        "# happen anymore."
      ],
      "metadata": {
        "collapsed": true,
        "id": "Z_-fSwRhBAqe"
      },
      "execution_count": null,
      "outputs": []
    },
    {
      "cell_type": "code",
      "source": [
        "import urllib.request\n",
        "import zipfile\n",
        "import pickle as pk\n",
        "\n",
        "import pandas as pd\n",
        "import matplotlib.pyplot as plt\n",
        "import numpy as np\n",
        "\n",
        "from sklearn.model_selection import train_test_split, KFold\n",
        "from sklearn.preprocessing import MinMaxScaler, OneHotEncoder\n",
        "from sklearn.compose import ColumnTransformer\n",
        "from sklearn.metrics import confusion_matrix, ConfusionMatrixDisplay\n",
        "\n",
        "import keras\n",
        "import tensorflow as tf\n",
        "from tensorflow.keras.models import Sequential\n",
        "from tensorflow.keras.layers import Dense, Dropout, BatchNormalization\n",
        "from tensorflow.keras.optimizers import Adam\n",
        "\n",
        "# Don't Show Warning Messages\n",
        "import warnings\n",
        "warnings.filterwarnings('ignore')"
      ],
      "metadata": {
        "id": "d0VuX4_06HLL"
      },
      "execution_count": null,
      "outputs": []
    },
    {
      "cell_type": "markdown",
      "source": [
        "# DATA LOADING"
      ],
      "metadata": {
        "id": "G8cgPJro8TFy"
      }
    },
    {
      "cell_type": "code",
      "execution_count": null,
      "metadata": {
        "collapsed": true,
        "id": "frpr551U3_g4"
      },
      "outputs": [],
      "source": [
        "# ZIP data URL from GitHub\n",
        "zip_url = \"https://github.com/dylanbahenda/DL-ANN/raw/main/input_data.zip\"\n",
        "# Download the ZIP\n",
        "zip_path, _ = urllib.request.urlretrieve(zip_url)\n",
        "\n",
        "# Unzip the folder\n",
        "target_folder = \"temp\"\n",
        "\n",
        "# Reading data\n",
        "with zipfile.ZipFile(zip_path, 'r') as zip_ref:\n",
        "    zip_ref.extractall(target_folder)\n",
        "data_path = f\"{target_folder}/input_data.pkl\"\n",
        "\n",
        "# Then use the following lines to read it:\n",
        "with open(data_path, 'rb') as f:\n",
        "   dd = pk.load(f)\n",
        "\n",
        "X = dd['X']\n",
        "y = dd['y']"
      ]
    },
    {
      "cell_type": "markdown",
      "source": [
        "## Data Visualization\n",
        "I just take a look at the data to see its shape, the values of the features, and the target.\n",
        "This is done just to see if the data is as expected."
      ],
      "metadata": {
        "id": "I5wuAObq1S4d"
      }
    },
    {
      "cell_type": "code",
      "source": [
        "print(X.shape)\n",
        "print(y.shape)"
      ],
      "metadata": {
        "colab": {
          "base_uri": "https://localhost:8080/"
        },
        "id": "uPFJAOGN5w8s",
        "outputId": "5f48fce0-e87b-4631-f01a-7e79c1b50fc1"
      },
      "execution_count": null,
      "outputs": [
        {
          "output_type": "stream",
          "name": "stdout",
          "text": [
            "(303, 13)\n",
            "(303, 1)\n"
          ]
        }
      ]
    },
    {
      "cell_type": "code",
      "source": [
        "X[:5]"
      ],
      "metadata": {
        "colab": {
          "base_uri": "https://localhost:8080/"
        },
        "id": "ajCvFwhR7G9T",
        "outputId": "e5f67c80-8283-469a-ff5a-80d8cf483dc9"
      },
      "execution_count": null,
      "outputs": [
        {
          "output_type": "execute_result",
          "data": {
            "text/plain": [
              "array([[ 63. ,   1. ,   3. , 145. , 233. ,   1. ,   0. , 150. ,   0. ,\n",
              "          2.3,   0. ,   0. ,   1. ],\n",
              "       [ 37. ,   1. ,   2. , 130. , 250. ,   0. ,   1. , 187. ,   0. ,\n",
              "          3.5,   0. ,   0. ,   2. ],\n",
              "       [ 41. ,   0. ,   1. , 130. , 204. ,   0. ,   0. , 172. ,   0. ,\n",
              "          1.4,   2. ,   0. ,   2. ],\n",
              "       [ 56. ,   1. ,   1. , 120. , 236. ,   0. ,   1. , 178. ,   0. ,\n",
              "          0.8,   2. ,   0. ,   2. ],\n",
              "       [ 57. ,   0. ,   0. , 120. , 354. ,   0. ,   1. , 163. ,   1. ,\n",
              "          0.6,   2. ,   0. ,   2. ]])"
            ]
          },
          "metadata": {},
          "execution_count": 5
        }
      ]
    },
    {
      "cell_type": "code",
      "source": [
        "y[:5]"
      ],
      "metadata": {
        "colab": {
          "base_uri": "https://localhost:8080/"
        },
        "id": "IyMo43Ns1cU-",
        "outputId": "7d322ebe-185b-4c81-9c95-60f44f4cddeb"
      },
      "execution_count": null,
      "outputs": [
        {
          "output_type": "execute_result",
          "data": {
            "text/plain": [
              "array([[1],\n",
              "       [1],\n",
              "       [1],\n",
              "       [1],\n",
              "       [1]])"
            ]
          },
          "metadata": {},
          "execution_count": 6
        }
      ]
    },
    {
      "cell_type": "markdown",
      "source": [
        "# 1. MODEL"
      ],
      "metadata": {
        "id": "WylLLOuGzm6A"
      }
    },
    {
      "cell_type": "markdown",
      "source": [
        "The main architecture is an MLP, like it is said in the written solution, since it is most appropriate to deal with numeric vectors because it can be able to detect patterns in them.\n",
        "\n",
        "The architecture is basically two hidden layers before the output. Each hidden layer is followed by a:\n",
        "\n",
        "*   Batch Normalization layer, for stability and efficiency in training.\n",
        "\n",
        "*   Dropout layer, to prevent overfitting.\n",
        "\n",
        "\n",
        "As written in the solution, the activation function is \"sigmoid\" since all feature values in the input are in [0, 1]\n",
        "\n",
        "\n",
        "This is just a snippet of how the architecture looks like, it refers to section 5, it will be seen latter.\n",
        "\n",
        "\n",
        "<font color='red'>**CHANGE**</font>: I mentioned in the written solution that the number of units in the first hidden layer should be equal to the length of the input vector, which is not necessarily true. The number of units will be determined latter during hyperparameter tuning.\n",
        "\n",
        "```\n",
        "model = Sequential()\n",
        "\n",
        "# First Dense layer with input shape\n",
        "model.add(Dense(64, activation='sigmoid', input_shape=input_shape))\n",
        "model.add(BatchNormalization())\n",
        "model.add(Dropout(dropout_rate))\n",
        "\n",
        "# Second Dense layer\n",
        "model.add(Dense(32, activation='sigmoid'))\n",
        "model.add(BatchNormalization())\n",
        "model.add(Dropout(dropout_rate))\n",
        "\n",
        "```\n",
        "\n"
      ],
      "metadata": {
        "id": "nu8ouzeA8Zu8"
      }
    },
    {
      "cell_type": "markdown",
      "source": [
        "# 2. INPUT"
      ],
      "metadata": {
        "id": "luwAPF068cX0"
      }
    },
    {
      "cell_type": "markdown",
      "source": [
        "## Preprocessing\n",
        "Below we apply some preprocessing, as mentioned in the written solution, to make the data much more suitable for our model.\n",
        "The preprocessing includes:\n",
        "\n",
        "*   Transforming the dataset into a dataframe.\n",
        "*   Applying a column transformer that applies min_max scaling to the numerical features, i.e columns 0, 3, 4, 7, 9, and it also performs one-hot encoding to the remaining categorical columns.\n",
        "\n",
        "\n",
        "<font color='red'>**CHANGE**</font>:The dataframe transformation was not specifically mentioned in the written solution but it was needed to do it so as to apply the column transformer.\n",
        "\n"
      ],
      "metadata": {
        "id": "zeAvulCp2C_A"
      }
    },
    {
      "cell_type": "code",
      "source": [
        "dataframe = pd.DataFrame(X)\n",
        "dataframe.head()"
      ],
      "metadata": {
        "colab": {
          "base_uri": "https://localhost:8080/",
          "height": 206
        },
        "id": "evsh6luqAFnr",
        "outputId": "074ed1d1-6440-48c2-b94b-a8088b658d6f"
      },
      "execution_count": null,
      "outputs": [
        {
          "output_type": "execute_result",
          "data": {
            "text/plain": [
              "     0    1    2      3      4    5    6      7    8    9    10   11   12\n",
              "0  63.0  1.0  3.0  145.0  233.0  1.0  0.0  150.0  0.0  2.3  0.0  0.0  1.0\n",
              "1  37.0  1.0  2.0  130.0  250.0  0.0  1.0  187.0  0.0  3.5  0.0  0.0  2.0\n",
              "2  41.0  0.0  1.0  130.0  204.0  0.0  0.0  172.0  0.0  1.4  2.0  0.0  2.0\n",
              "3  56.0  1.0  1.0  120.0  236.0  0.0  1.0  178.0  0.0  0.8  2.0  0.0  2.0\n",
              "4  57.0  0.0  0.0  120.0  354.0  0.0  1.0  163.0  1.0  0.6  2.0  0.0  2.0"
            ],
            "text/html": [
              "\n",
              "  <div id=\"df-79559ff9-8647-49ab-882e-517bb5b2a18e\" class=\"colab-df-container\">\n",
              "    <div>\n",
              "<style scoped>\n",
              "    .dataframe tbody tr th:only-of-type {\n",
              "        vertical-align: middle;\n",
              "    }\n",
              "\n",
              "    .dataframe tbody tr th {\n",
              "        vertical-align: top;\n",
              "    }\n",
              "\n",
              "    .dataframe thead th {\n",
              "        text-align: right;\n",
              "    }\n",
              "</style>\n",
              "<table border=\"1\" class=\"dataframe\">\n",
              "  <thead>\n",
              "    <tr style=\"text-align: right;\">\n",
              "      <th></th>\n",
              "      <th>0</th>\n",
              "      <th>1</th>\n",
              "      <th>2</th>\n",
              "      <th>3</th>\n",
              "      <th>4</th>\n",
              "      <th>5</th>\n",
              "      <th>6</th>\n",
              "      <th>7</th>\n",
              "      <th>8</th>\n",
              "      <th>9</th>\n",
              "      <th>10</th>\n",
              "      <th>11</th>\n",
              "      <th>12</th>\n",
              "    </tr>\n",
              "  </thead>\n",
              "  <tbody>\n",
              "    <tr>\n",
              "      <th>0</th>\n",
              "      <td>63.0</td>\n",
              "      <td>1.0</td>\n",
              "      <td>3.0</td>\n",
              "      <td>145.0</td>\n",
              "      <td>233.0</td>\n",
              "      <td>1.0</td>\n",
              "      <td>0.0</td>\n",
              "      <td>150.0</td>\n",
              "      <td>0.0</td>\n",
              "      <td>2.3</td>\n",
              "      <td>0.0</td>\n",
              "      <td>0.0</td>\n",
              "      <td>1.0</td>\n",
              "    </tr>\n",
              "    <tr>\n",
              "      <th>1</th>\n",
              "      <td>37.0</td>\n",
              "      <td>1.0</td>\n",
              "      <td>2.0</td>\n",
              "      <td>130.0</td>\n",
              "      <td>250.0</td>\n",
              "      <td>0.0</td>\n",
              "      <td>1.0</td>\n",
              "      <td>187.0</td>\n",
              "      <td>0.0</td>\n",
              "      <td>3.5</td>\n",
              "      <td>0.0</td>\n",
              "      <td>0.0</td>\n",
              "      <td>2.0</td>\n",
              "    </tr>\n",
              "    <tr>\n",
              "      <th>2</th>\n",
              "      <td>41.0</td>\n",
              "      <td>0.0</td>\n",
              "      <td>1.0</td>\n",
              "      <td>130.0</td>\n",
              "      <td>204.0</td>\n",
              "      <td>0.0</td>\n",
              "      <td>0.0</td>\n",
              "      <td>172.0</td>\n",
              "      <td>0.0</td>\n",
              "      <td>1.4</td>\n",
              "      <td>2.0</td>\n",
              "      <td>0.0</td>\n",
              "      <td>2.0</td>\n",
              "    </tr>\n",
              "    <tr>\n",
              "      <th>3</th>\n",
              "      <td>56.0</td>\n",
              "      <td>1.0</td>\n",
              "      <td>1.0</td>\n",
              "      <td>120.0</td>\n",
              "      <td>236.0</td>\n",
              "      <td>0.0</td>\n",
              "      <td>1.0</td>\n",
              "      <td>178.0</td>\n",
              "      <td>0.0</td>\n",
              "      <td>0.8</td>\n",
              "      <td>2.0</td>\n",
              "      <td>0.0</td>\n",
              "      <td>2.0</td>\n",
              "    </tr>\n",
              "    <tr>\n",
              "      <th>4</th>\n",
              "      <td>57.0</td>\n",
              "      <td>0.0</td>\n",
              "      <td>0.0</td>\n",
              "      <td>120.0</td>\n",
              "      <td>354.0</td>\n",
              "      <td>0.0</td>\n",
              "      <td>1.0</td>\n",
              "      <td>163.0</td>\n",
              "      <td>1.0</td>\n",
              "      <td>0.6</td>\n",
              "      <td>2.0</td>\n",
              "      <td>0.0</td>\n",
              "      <td>2.0</td>\n",
              "    </tr>\n",
              "  </tbody>\n",
              "</table>\n",
              "</div>\n",
              "    <div class=\"colab-df-buttons\">\n",
              "\n",
              "  <div class=\"colab-df-container\">\n",
              "    <button class=\"colab-df-convert\" onclick=\"convertToInteractive('df-79559ff9-8647-49ab-882e-517bb5b2a18e')\"\n",
              "            title=\"Convert this dataframe to an interactive table.\"\n",
              "            style=\"display:none;\">\n",
              "\n",
              "  <svg xmlns=\"http://www.w3.org/2000/svg\" height=\"24px\" viewBox=\"0 -960 960 960\">\n",
              "    <path d=\"M120-120v-720h720v720H120Zm60-500h600v-160H180v160Zm220 220h160v-160H400v160Zm0 220h160v-160H400v160ZM180-400h160v-160H180v160Zm440 0h160v-160H620v160ZM180-180h160v-160H180v160Zm440 0h160v-160H620v160Z\"/>\n",
              "  </svg>\n",
              "    </button>\n",
              "\n",
              "  <style>\n",
              "    .colab-df-container {\n",
              "      display:flex;\n",
              "      gap: 12px;\n",
              "    }\n",
              "\n",
              "    .colab-df-convert {\n",
              "      background-color: #E8F0FE;\n",
              "      border: none;\n",
              "      border-radius: 50%;\n",
              "      cursor: pointer;\n",
              "      display: none;\n",
              "      fill: #1967D2;\n",
              "      height: 32px;\n",
              "      padding: 0 0 0 0;\n",
              "      width: 32px;\n",
              "    }\n",
              "\n",
              "    .colab-df-convert:hover {\n",
              "      background-color: #E2EBFA;\n",
              "      box-shadow: 0px 1px 2px rgba(60, 64, 67, 0.3), 0px 1px 3px 1px rgba(60, 64, 67, 0.15);\n",
              "      fill: #174EA6;\n",
              "    }\n",
              "\n",
              "    .colab-df-buttons div {\n",
              "      margin-bottom: 4px;\n",
              "    }\n",
              "\n",
              "    [theme=dark] .colab-df-convert {\n",
              "      background-color: #3B4455;\n",
              "      fill: #D2E3FC;\n",
              "    }\n",
              "\n",
              "    [theme=dark] .colab-df-convert:hover {\n",
              "      background-color: #434B5C;\n",
              "      box-shadow: 0px 1px 3px 1px rgba(0, 0, 0, 0.15);\n",
              "      filter: drop-shadow(0px 1px 2px rgba(0, 0, 0, 0.3));\n",
              "      fill: #FFFFFF;\n",
              "    }\n",
              "  </style>\n",
              "\n",
              "    <script>\n",
              "      const buttonEl =\n",
              "        document.querySelector('#df-79559ff9-8647-49ab-882e-517bb5b2a18e button.colab-df-convert');\n",
              "      buttonEl.style.display =\n",
              "        google.colab.kernel.accessAllowed ? 'block' : 'none';\n",
              "\n",
              "      async function convertToInteractive(key) {\n",
              "        const element = document.querySelector('#df-79559ff9-8647-49ab-882e-517bb5b2a18e');\n",
              "        const dataTable =\n",
              "          await google.colab.kernel.invokeFunction('convertToInteractive',\n",
              "                                                    [key], {});\n",
              "        if (!dataTable) return;\n",
              "\n",
              "        const docLinkHtml = 'Like what you see? Visit the ' +\n",
              "          '<a target=\"_blank\" href=https://colab.research.google.com/notebooks/data_table.ipynb>data table notebook</a>'\n",
              "          + ' to learn more about interactive tables.';\n",
              "        element.innerHTML = '';\n",
              "        dataTable['output_type'] = 'display_data';\n",
              "        await google.colab.output.renderOutput(dataTable, element);\n",
              "        const docLink = document.createElement('div');\n",
              "        docLink.innerHTML = docLinkHtml;\n",
              "        element.appendChild(docLink);\n",
              "      }\n",
              "    </script>\n",
              "  </div>\n",
              "\n",
              "\n",
              "<div id=\"df-22214f3d-183a-440c-a551-f45e09fdfcad\">\n",
              "  <button class=\"colab-df-quickchart\" onclick=\"quickchart('df-22214f3d-183a-440c-a551-f45e09fdfcad')\"\n",
              "            title=\"Suggest charts\"\n",
              "            style=\"display:none;\">\n",
              "\n",
              "<svg xmlns=\"http://www.w3.org/2000/svg\" height=\"24px\"viewBox=\"0 0 24 24\"\n",
              "     width=\"24px\">\n",
              "    <g>\n",
              "        <path d=\"M19 3H5c-1.1 0-2 .9-2 2v14c0 1.1.9 2 2 2h14c1.1 0 2-.9 2-2V5c0-1.1-.9-2-2-2zM9 17H7v-7h2v7zm4 0h-2V7h2v10zm4 0h-2v-4h2v4z\"/>\n",
              "    </g>\n",
              "</svg>\n",
              "  </button>\n",
              "\n",
              "<style>\n",
              "  .colab-df-quickchart {\n",
              "      --bg-color: #E8F0FE;\n",
              "      --fill-color: #1967D2;\n",
              "      --hover-bg-color: #E2EBFA;\n",
              "      --hover-fill-color: #174EA6;\n",
              "      --disabled-fill-color: #AAA;\n",
              "      --disabled-bg-color: #DDD;\n",
              "  }\n",
              "\n",
              "  [theme=dark] .colab-df-quickchart {\n",
              "      --bg-color: #3B4455;\n",
              "      --fill-color: #D2E3FC;\n",
              "      --hover-bg-color: #434B5C;\n",
              "      --hover-fill-color: #FFFFFF;\n",
              "      --disabled-bg-color: #3B4455;\n",
              "      --disabled-fill-color: #666;\n",
              "  }\n",
              "\n",
              "  .colab-df-quickchart {\n",
              "    background-color: var(--bg-color);\n",
              "    border: none;\n",
              "    border-radius: 50%;\n",
              "    cursor: pointer;\n",
              "    display: none;\n",
              "    fill: var(--fill-color);\n",
              "    height: 32px;\n",
              "    padding: 0;\n",
              "    width: 32px;\n",
              "  }\n",
              "\n",
              "  .colab-df-quickchart:hover {\n",
              "    background-color: var(--hover-bg-color);\n",
              "    box-shadow: 0 1px 2px rgba(60, 64, 67, 0.3), 0 1px 3px 1px rgba(60, 64, 67, 0.15);\n",
              "    fill: var(--button-hover-fill-color);\n",
              "  }\n",
              "\n",
              "  .colab-df-quickchart-complete:disabled,\n",
              "  .colab-df-quickchart-complete:disabled:hover {\n",
              "    background-color: var(--disabled-bg-color);\n",
              "    fill: var(--disabled-fill-color);\n",
              "    box-shadow: none;\n",
              "  }\n",
              "\n",
              "  .colab-df-spinner {\n",
              "    border: 2px solid var(--fill-color);\n",
              "    border-color: transparent;\n",
              "    border-bottom-color: var(--fill-color);\n",
              "    animation:\n",
              "      spin 1s steps(1) infinite;\n",
              "  }\n",
              "\n",
              "  @keyframes spin {\n",
              "    0% {\n",
              "      border-color: transparent;\n",
              "      border-bottom-color: var(--fill-color);\n",
              "      border-left-color: var(--fill-color);\n",
              "    }\n",
              "    20% {\n",
              "      border-color: transparent;\n",
              "      border-left-color: var(--fill-color);\n",
              "      border-top-color: var(--fill-color);\n",
              "    }\n",
              "    30% {\n",
              "      border-color: transparent;\n",
              "      border-left-color: var(--fill-color);\n",
              "      border-top-color: var(--fill-color);\n",
              "      border-right-color: var(--fill-color);\n",
              "    }\n",
              "    40% {\n",
              "      border-color: transparent;\n",
              "      border-right-color: var(--fill-color);\n",
              "      border-top-color: var(--fill-color);\n",
              "    }\n",
              "    60% {\n",
              "      border-color: transparent;\n",
              "      border-right-color: var(--fill-color);\n",
              "    }\n",
              "    80% {\n",
              "      border-color: transparent;\n",
              "      border-right-color: var(--fill-color);\n",
              "      border-bottom-color: var(--fill-color);\n",
              "    }\n",
              "    90% {\n",
              "      border-color: transparent;\n",
              "      border-bottom-color: var(--fill-color);\n",
              "    }\n",
              "  }\n",
              "</style>\n",
              "\n",
              "  <script>\n",
              "    async function quickchart(key) {\n",
              "      const quickchartButtonEl =\n",
              "        document.querySelector('#' + key + ' button');\n",
              "      quickchartButtonEl.disabled = true;  // To prevent multiple clicks.\n",
              "      quickchartButtonEl.classList.add('colab-df-spinner');\n",
              "      try {\n",
              "        const charts = await google.colab.kernel.invokeFunction(\n",
              "            'suggestCharts', [key], {});\n",
              "      } catch (error) {\n",
              "        console.error('Error during call to suggestCharts:', error);\n",
              "      }\n",
              "      quickchartButtonEl.classList.remove('colab-df-spinner');\n",
              "      quickchartButtonEl.classList.add('colab-df-quickchart-complete');\n",
              "    }\n",
              "    (() => {\n",
              "      let quickchartButtonEl =\n",
              "        document.querySelector('#df-22214f3d-183a-440c-a551-f45e09fdfcad button');\n",
              "      quickchartButtonEl.style.display =\n",
              "        google.colab.kernel.accessAllowed ? 'block' : 'none';\n",
              "    })();\n",
              "  </script>\n",
              "</div>\n",
              "\n",
              "    </div>\n",
              "  </div>\n"
            ],
            "application/vnd.google.colaboratory.intrinsic+json": {
              "type": "dataframe",
              "variable_name": "dataframe",
              "summary": "{\n  \"name\": \"dataframe\",\n  \"rows\": 303,\n  \"fields\": [\n    {\n      \"column\": 0,\n      \"properties\": {\n        \"dtype\": \"number\",\n        \"std\": 9.082100989837857,\n        \"min\": 29.0,\n        \"max\": 77.0,\n        \"num_unique_values\": 41,\n        \"samples\": [\n          46.0,\n          66.0,\n          48.0\n        ],\n        \"semantic_type\": \"\",\n        \"description\": \"\"\n      }\n    },\n    {\n      \"column\": 1,\n      \"properties\": {\n        \"dtype\": \"number\",\n        \"std\": 0.46601082333962385,\n        \"min\": 0.0,\n        \"max\": 1.0,\n        \"num_unique_values\": 2,\n        \"samples\": [\n          0.0,\n          1.0\n        ],\n        \"semantic_type\": \"\",\n        \"description\": \"\"\n      }\n    },\n    {\n      \"column\": 2,\n      \"properties\": {\n        \"dtype\": \"number\",\n        \"std\": 1.0320524894832985,\n        \"min\": 0.0,\n        \"max\": 3.0,\n        \"num_unique_values\": 4,\n        \"samples\": [\n          2.0,\n          0.0\n        ],\n        \"semantic_type\": \"\",\n        \"description\": \"\"\n      }\n    },\n    {\n      \"column\": 3,\n      \"properties\": {\n        \"dtype\": \"number\",\n        \"std\": 17.5381428135171,\n        \"min\": 94.0,\n        \"max\": 200.0,\n        \"num_unique_values\": 49,\n        \"samples\": [\n          104.0,\n          123.0\n        ],\n        \"semantic_type\": \"\",\n        \"description\": \"\"\n      }\n    },\n    {\n      \"column\": 4,\n      \"properties\": {\n        \"dtype\": \"number\",\n        \"std\": 51.83075098793003,\n        \"min\": 126.0,\n        \"max\": 564.0,\n        \"num_unique_values\": 152,\n        \"samples\": [\n          277.0,\n          169.0\n        ],\n        \"semantic_type\": \"\",\n        \"description\": \"\"\n      }\n    },\n    {\n      \"column\": 5,\n      \"properties\": {\n        \"dtype\": \"number\",\n        \"std\": 0.35619787492797644,\n        \"min\": 0.0,\n        \"max\": 1.0,\n        \"num_unique_values\": 2,\n        \"samples\": [\n          0.0,\n          1.0\n        ],\n        \"semantic_type\": \"\",\n        \"description\": \"\"\n      }\n    },\n    {\n      \"column\": 6,\n      \"properties\": {\n        \"dtype\": \"number\",\n        \"std\": 0.525859596359298,\n        \"min\": 0.0,\n        \"max\": 2.0,\n        \"num_unique_values\": 3,\n        \"samples\": [\n          0.0,\n          1.0\n        ],\n        \"semantic_type\": \"\",\n        \"description\": \"\"\n      }\n    },\n    {\n      \"column\": 7,\n      \"properties\": {\n        \"dtype\": \"number\",\n        \"std\": 22.905161114914094,\n        \"min\": 71.0,\n        \"max\": 202.0,\n        \"num_unique_values\": 91,\n        \"samples\": [\n          159.0,\n          152.0\n        ],\n        \"semantic_type\": \"\",\n        \"description\": \"\"\n      }\n    },\n    {\n      \"column\": 8,\n      \"properties\": {\n        \"dtype\": \"number\",\n        \"std\": 0.4697944645223165,\n        \"min\": 0.0,\n        \"max\": 1.0,\n        \"num_unique_values\": 2,\n        \"samples\": [\n          1.0,\n          0.0\n        ],\n        \"semantic_type\": \"\",\n        \"description\": \"\"\n      }\n    },\n    {\n      \"column\": 9,\n      \"properties\": {\n        \"dtype\": \"number\",\n        \"std\": 1.1610750220686348,\n        \"min\": 0.0,\n        \"max\": 6.2,\n        \"num_unique_values\": 40,\n        \"samples\": [\n          1.9,\n          3.0\n        ],\n        \"semantic_type\": \"\",\n        \"description\": \"\"\n      }\n    },\n    {\n      \"column\": 10,\n      \"properties\": {\n        \"dtype\": \"number\",\n        \"std\": 0.6162261453459619,\n        \"min\": 0.0,\n        \"max\": 2.0,\n        \"num_unique_values\": 3,\n        \"samples\": [\n          0.0,\n          2.0\n        ],\n        \"semantic_type\": \"\",\n        \"description\": \"\"\n      }\n    },\n    {\n      \"column\": 11,\n      \"properties\": {\n        \"dtype\": \"number\",\n        \"std\": 1.022606364969327,\n        \"min\": 0.0,\n        \"max\": 4.0,\n        \"num_unique_values\": 5,\n        \"samples\": [\n          2.0,\n          4.0\n        ],\n        \"semantic_type\": \"\",\n        \"description\": \"\"\n      }\n    },\n    {\n      \"column\": 12,\n      \"properties\": {\n        \"dtype\": \"number\",\n        \"std\": 0.6122765072781409,\n        \"min\": 0.0,\n        \"max\": 3.0,\n        \"num_unique_values\": 4,\n        \"samples\": [\n          2.0,\n          0.0\n        ],\n        \"semantic_type\": \"\",\n        \"description\": \"\"\n      }\n    }\n  ]\n}"
            }
          },
          "metadata": {},
          "execution_count": 7
        }
      ]
    },
    {
      "cell_type": "code",
      "source": [
        "mmscaler = MinMaxScaler()\n",
        "ohe = OneHotEncoder()\n",
        "\n",
        "# Building the transformer\n",
        "final_transformation = ColumnTransformer(\n",
        "    transformers=[\n",
        "        ('Numerical', mmscaler, [0, 3, 4, 7, 9]),\n",
        "        ('Categorical', ohe, [1, 2, 5, 6, 8, 10, 11, 12])\n",
        "    ],\n",
        "    verbose_feature_names_out=False\n",
        ")\n",
        "\n",
        "# X_new is the transformed dataframe\n",
        "X_new = final_transformation.fit_transform(dataframe)\n",
        "X_new = pd.DataFrame(X_new, columns=final_transformation.get_feature_names_out())"
      ],
      "metadata": {
        "id": "Aj0QfFkqA46G"
      },
      "execution_count": null,
      "outputs": []
    },
    {
      "cell_type": "code",
      "source": [
        "X_new.head()"
      ],
      "metadata": {
        "colab": {
          "base_uri": "https://localhost:8080/",
          "height": 255
        },
        "id": "PQnXY70mF9UJ",
        "outputId": "2c3a07df-3359-4896-a888-1578ac884e8b"
      },
      "execution_count": null,
      "outputs": [
        {
          "output_type": "execute_result",
          "data": {
            "text/plain": [
              "         x0        x3        x4        x7        x9  x1_0.0  x1_1.0  x2_0.0  \\\n",
              "0  0.708333  0.481132  0.244292  0.603053  0.370968     0.0     1.0     0.0   \n",
              "1  0.166667  0.339623  0.283105  0.885496  0.564516     0.0     1.0     0.0   \n",
              "2  0.250000  0.339623  0.178082  0.770992  0.225806     1.0     0.0     0.0   \n",
              "3  0.562500  0.245283  0.251142  0.816794  0.129032     0.0     1.0     0.0   \n",
              "4  0.583333  0.245283  0.520548  0.702290  0.096774     1.0     0.0     1.0   \n",
              "\n",
              "   x2_1.0  x2_2.0  ...  x10_2.0  x11_0.0  x11_1.0  x11_2.0  x11_3.0  x11_4.0  \\\n",
              "0     0.0     0.0  ...      0.0      1.0      0.0      0.0      0.0      0.0   \n",
              "1     0.0     1.0  ...      0.0      1.0      0.0      0.0      0.0      0.0   \n",
              "2     1.0     0.0  ...      1.0      1.0      0.0      0.0      0.0      0.0   \n",
              "3     1.0     0.0  ...      1.0      1.0      0.0      0.0      0.0      0.0   \n",
              "4     0.0     0.0  ...      1.0      1.0      0.0      0.0      0.0      0.0   \n",
              "\n",
              "   x12_0.0  x12_1.0  x12_2.0  x12_3.0  \n",
              "0      0.0      1.0      0.0      0.0  \n",
              "1      0.0      0.0      1.0      0.0  \n",
              "2      0.0      0.0      1.0      0.0  \n",
              "3      0.0      0.0      1.0      0.0  \n",
              "4      0.0      0.0      1.0      0.0  \n",
              "\n",
              "[5 rows x 30 columns]"
            ],
            "text/html": [
              "\n",
              "  <div id=\"df-3b10c6d9-4976-421a-9252-8e6796b3b6a0\" class=\"colab-df-container\">\n",
              "    <div>\n",
              "<style scoped>\n",
              "    .dataframe tbody tr th:only-of-type {\n",
              "        vertical-align: middle;\n",
              "    }\n",
              "\n",
              "    .dataframe tbody tr th {\n",
              "        vertical-align: top;\n",
              "    }\n",
              "\n",
              "    .dataframe thead th {\n",
              "        text-align: right;\n",
              "    }\n",
              "</style>\n",
              "<table border=\"1\" class=\"dataframe\">\n",
              "  <thead>\n",
              "    <tr style=\"text-align: right;\">\n",
              "      <th></th>\n",
              "      <th>x0</th>\n",
              "      <th>x3</th>\n",
              "      <th>x4</th>\n",
              "      <th>x7</th>\n",
              "      <th>x9</th>\n",
              "      <th>x1_0.0</th>\n",
              "      <th>x1_1.0</th>\n",
              "      <th>x2_0.0</th>\n",
              "      <th>x2_1.0</th>\n",
              "      <th>x2_2.0</th>\n",
              "      <th>...</th>\n",
              "      <th>x10_2.0</th>\n",
              "      <th>x11_0.0</th>\n",
              "      <th>x11_1.0</th>\n",
              "      <th>x11_2.0</th>\n",
              "      <th>x11_3.0</th>\n",
              "      <th>x11_4.0</th>\n",
              "      <th>x12_0.0</th>\n",
              "      <th>x12_1.0</th>\n",
              "      <th>x12_2.0</th>\n",
              "      <th>x12_3.0</th>\n",
              "    </tr>\n",
              "  </thead>\n",
              "  <tbody>\n",
              "    <tr>\n",
              "      <th>0</th>\n",
              "      <td>0.708333</td>\n",
              "      <td>0.481132</td>\n",
              "      <td>0.244292</td>\n",
              "      <td>0.603053</td>\n",
              "      <td>0.370968</td>\n",
              "      <td>0.0</td>\n",
              "      <td>1.0</td>\n",
              "      <td>0.0</td>\n",
              "      <td>0.0</td>\n",
              "      <td>0.0</td>\n",
              "      <td>...</td>\n",
              "      <td>0.0</td>\n",
              "      <td>1.0</td>\n",
              "      <td>0.0</td>\n",
              "      <td>0.0</td>\n",
              "      <td>0.0</td>\n",
              "      <td>0.0</td>\n",
              "      <td>0.0</td>\n",
              "      <td>1.0</td>\n",
              "      <td>0.0</td>\n",
              "      <td>0.0</td>\n",
              "    </tr>\n",
              "    <tr>\n",
              "      <th>1</th>\n",
              "      <td>0.166667</td>\n",
              "      <td>0.339623</td>\n",
              "      <td>0.283105</td>\n",
              "      <td>0.885496</td>\n",
              "      <td>0.564516</td>\n",
              "      <td>0.0</td>\n",
              "      <td>1.0</td>\n",
              "      <td>0.0</td>\n",
              "      <td>0.0</td>\n",
              "      <td>1.0</td>\n",
              "      <td>...</td>\n",
              "      <td>0.0</td>\n",
              "      <td>1.0</td>\n",
              "      <td>0.0</td>\n",
              "      <td>0.0</td>\n",
              "      <td>0.0</td>\n",
              "      <td>0.0</td>\n",
              "      <td>0.0</td>\n",
              "      <td>0.0</td>\n",
              "      <td>1.0</td>\n",
              "      <td>0.0</td>\n",
              "    </tr>\n",
              "    <tr>\n",
              "      <th>2</th>\n",
              "      <td>0.250000</td>\n",
              "      <td>0.339623</td>\n",
              "      <td>0.178082</td>\n",
              "      <td>0.770992</td>\n",
              "      <td>0.225806</td>\n",
              "      <td>1.0</td>\n",
              "      <td>0.0</td>\n",
              "      <td>0.0</td>\n",
              "      <td>1.0</td>\n",
              "      <td>0.0</td>\n",
              "      <td>...</td>\n",
              "      <td>1.0</td>\n",
              "      <td>1.0</td>\n",
              "      <td>0.0</td>\n",
              "      <td>0.0</td>\n",
              "      <td>0.0</td>\n",
              "      <td>0.0</td>\n",
              "      <td>0.0</td>\n",
              "      <td>0.0</td>\n",
              "      <td>1.0</td>\n",
              "      <td>0.0</td>\n",
              "    </tr>\n",
              "    <tr>\n",
              "      <th>3</th>\n",
              "      <td>0.562500</td>\n",
              "      <td>0.245283</td>\n",
              "      <td>0.251142</td>\n",
              "      <td>0.816794</td>\n",
              "      <td>0.129032</td>\n",
              "      <td>0.0</td>\n",
              "      <td>1.0</td>\n",
              "      <td>0.0</td>\n",
              "      <td>1.0</td>\n",
              "      <td>0.0</td>\n",
              "      <td>...</td>\n",
              "      <td>1.0</td>\n",
              "      <td>1.0</td>\n",
              "      <td>0.0</td>\n",
              "      <td>0.0</td>\n",
              "      <td>0.0</td>\n",
              "      <td>0.0</td>\n",
              "      <td>0.0</td>\n",
              "      <td>0.0</td>\n",
              "      <td>1.0</td>\n",
              "      <td>0.0</td>\n",
              "    </tr>\n",
              "    <tr>\n",
              "      <th>4</th>\n",
              "      <td>0.583333</td>\n",
              "      <td>0.245283</td>\n",
              "      <td>0.520548</td>\n",
              "      <td>0.702290</td>\n",
              "      <td>0.096774</td>\n",
              "      <td>1.0</td>\n",
              "      <td>0.0</td>\n",
              "      <td>1.0</td>\n",
              "      <td>0.0</td>\n",
              "      <td>0.0</td>\n",
              "      <td>...</td>\n",
              "      <td>1.0</td>\n",
              "      <td>1.0</td>\n",
              "      <td>0.0</td>\n",
              "      <td>0.0</td>\n",
              "      <td>0.0</td>\n",
              "      <td>0.0</td>\n",
              "      <td>0.0</td>\n",
              "      <td>0.0</td>\n",
              "      <td>1.0</td>\n",
              "      <td>0.0</td>\n",
              "    </tr>\n",
              "  </tbody>\n",
              "</table>\n",
              "<p>5 rows × 30 columns</p>\n",
              "</div>\n",
              "    <div class=\"colab-df-buttons\">\n",
              "\n",
              "  <div class=\"colab-df-container\">\n",
              "    <button class=\"colab-df-convert\" onclick=\"convertToInteractive('df-3b10c6d9-4976-421a-9252-8e6796b3b6a0')\"\n",
              "            title=\"Convert this dataframe to an interactive table.\"\n",
              "            style=\"display:none;\">\n",
              "\n",
              "  <svg xmlns=\"http://www.w3.org/2000/svg\" height=\"24px\" viewBox=\"0 -960 960 960\">\n",
              "    <path d=\"M120-120v-720h720v720H120Zm60-500h600v-160H180v160Zm220 220h160v-160H400v160Zm0 220h160v-160H400v160ZM180-400h160v-160H180v160Zm440 0h160v-160H620v160ZM180-180h160v-160H180v160Zm440 0h160v-160H620v160Z\"/>\n",
              "  </svg>\n",
              "    </button>\n",
              "\n",
              "  <style>\n",
              "    .colab-df-container {\n",
              "      display:flex;\n",
              "      gap: 12px;\n",
              "    }\n",
              "\n",
              "    .colab-df-convert {\n",
              "      background-color: #E8F0FE;\n",
              "      border: none;\n",
              "      border-radius: 50%;\n",
              "      cursor: pointer;\n",
              "      display: none;\n",
              "      fill: #1967D2;\n",
              "      height: 32px;\n",
              "      padding: 0 0 0 0;\n",
              "      width: 32px;\n",
              "    }\n",
              "\n",
              "    .colab-df-convert:hover {\n",
              "      background-color: #E2EBFA;\n",
              "      box-shadow: 0px 1px 2px rgba(60, 64, 67, 0.3), 0px 1px 3px 1px rgba(60, 64, 67, 0.15);\n",
              "      fill: #174EA6;\n",
              "    }\n",
              "\n",
              "    .colab-df-buttons div {\n",
              "      margin-bottom: 4px;\n",
              "    }\n",
              "\n",
              "    [theme=dark] .colab-df-convert {\n",
              "      background-color: #3B4455;\n",
              "      fill: #D2E3FC;\n",
              "    }\n",
              "\n",
              "    [theme=dark] .colab-df-convert:hover {\n",
              "      background-color: #434B5C;\n",
              "      box-shadow: 0px 1px 3px 1px rgba(0, 0, 0, 0.15);\n",
              "      filter: drop-shadow(0px 1px 2px rgba(0, 0, 0, 0.3));\n",
              "      fill: #FFFFFF;\n",
              "    }\n",
              "  </style>\n",
              "\n",
              "    <script>\n",
              "      const buttonEl =\n",
              "        document.querySelector('#df-3b10c6d9-4976-421a-9252-8e6796b3b6a0 button.colab-df-convert');\n",
              "      buttonEl.style.display =\n",
              "        google.colab.kernel.accessAllowed ? 'block' : 'none';\n",
              "\n",
              "      async function convertToInteractive(key) {\n",
              "        const element = document.querySelector('#df-3b10c6d9-4976-421a-9252-8e6796b3b6a0');\n",
              "        const dataTable =\n",
              "          await google.colab.kernel.invokeFunction('convertToInteractive',\n",
              "                                                    [key], {});\n",
              "        if (!dataTable) return;\n",
              "\n",
              "        const docLinkHtml = 'Like what you see? Visit the ' +\n",
              "          '<a target=\"_blank\" href=https://colab.research.google.com/notebooks/data_table.ipynb>data table notebook</a>'\n",
              "          + ' to learn more about interactive tables.';\n",
              "        element.innerHTML = '';\n",
              "        dataTable['output_type'] = 'display_data';\n",
              "        await google.colab.output.renderOutput(dataTable, element);\n",
              "        const docLink = document.createElement('div');\n",
              "        docLink.innerHTML = docLinkHtml;\n",
              "        element.appendChild(docLink);\n",
              "      }\n",
              "    </script>\n",
              "  </div>\n",
              "\n",
              "\n",
              "<div id=\"df-7ab437d1-bed3-4392-a541-3ad0127d10ee\">\n",
              "  <button class=\"colab-df-quickchart\" onclick=\"quickchart('df-7ab437d1-bed3-4392-a541-3ad0127d10ee')\"\n",
              "            title=\"Suggest charts\"\n",
              "            style=\"display:none;\">\n",
              "\n",
              "<svg xmlns=\"http://www.w3.org/2000/svg\" height=\"24px\"viewBox=\"0 0 24 24\"\n",
              "     width=\"24px\">\n",
              "    <g>\n",
              "        <path d=\"M19 3H5c-1.1 0-2 .9-2 2v14c0 1.1.9 2 2 2h14c1.1 0 2-.9 2-2V5c0-1.1-.9-2-2-2zM9 17H7v-7h2v7zm4 0h-2V7h2v10zm4 0h-2v-4h2v4z\"/>\n",
              "    </g>\n",
              "</svg>\n",
              "  </button>\n",
              "\n",
              "<style>\n",
              "  .colab-df-quickchart {\n",
              "      --bg-color: #E8F0FE;\n",
              "      --fill-color: #1967D2;\n",
              "      --hover-bg-color: #E2EBFA;\n",
              "      --hover-fill-color: #174EA6;\n",
              "      --disabled-fill-color: #AAA;\n",
              "      --disabled-bg-color: #DDD;\n",
              "  }\n",
              "\n",
              "  [theme=dark] .colab-df-quickchart {\n",
              "      --bg-color: #3B4455;\n",
              "      --fill-color: #D2E3FC;\n",
              "      --hover-bg-color: #434B5C;\n",
              "      --hover-fill-color: #FFFFFF;\n",
              "      --disabled-bg-color: #3B4455;\n",
              "      --disabled-fill-color: #666;\n",
              "  }\n",
              "\n",
              "  .colab-df-quickchart {\n",
              "    background-color: var(--bg-color);\n",
              "    border: none;\n",
              "    border-radius: 50%;\n",
              "    cursor: pointer;\n",
              "    display: none;\n",
              "    fill: var(--fill-color);\n",
              "    height: 32px;\n",
              "    padding: 0;\n",
              "    width: 32px;\n",
              "  }\n",
              "\n",
              "  .colab-df-quickchart:hover {\n",
              "    background-color: var(--hover-bg-color);\n",
              "    box-shadow: 0 1px 2px rgba(60, 64, 67, 0.3), 0 1px 3px 1px rgba(60, 64, 67, 0.15);\n",
              "    fill: var(--button-hover-fill-color);\n",
              "  }\n",
              "\n",
              "  .colab-df-quickchart-complete:disabled,\n",
              "  .colab-df-quickchart-complete:disabled:hover {\n",
              "    background-color: var(--disabled-bg-color);\n",
              "    fill: var(--disabled-fill-color);\n",
              "    box-shadow: none;\n",
              "  }\n",
              "\n",
              "  .colab-df-spinner {\n",
              "    border: 2px solid var(--fill-color);\n",
              "    border-color: transparent;\n",
              "    border-bottom-color: var(--fill-color);\n",
              "    animation:\n",
              "      spin 1s steps(1) infinite;\n",
              "  }\n",
              "\n",
              "  @keyframes spin {\n",
              "    0% {\n",
              "      border-color: transparent;\n",
              "      border-bottom-color: var(--fill-color);\n",
              "      border-left-color: var(--fill-color);\n",
              "    }\n",
              "    20% {\n",
              "      border-color: transparent;\n",
              "      border-left-color: var(--fill-color);\n",
              "      border-top-color: var(--fill-color);\n",
              "    }\n",
              "    30% {\n",
              "      border-color: transparent;\n",
              "      border-left-color: var(--fill-color);\n",
              "      border-top-color: var(--fill-color);\n",
              "      border-right-color: var(--fill-color);\n",
              "    }\n",
              "    40% {\n",
              "      border-color: transparent;\n",
              "      border-right-color: var(--fill-color);\n",
              "      border-top-color: var(--fill-color);\n",
              "    }\n",
              "    60% {\n",
              "      border-color: transparent;\n",
              "      border-right-color: var(--fill-color);\n",
              "    }\n",
              "    80% {\n",
              "      border-color: transparent;\n",
              "      border-right-color: var(--fill-color);\n",
              "      border-bottom-color: var(--fill-color);\n",
              "    }\n",
              "    90% {\n",
              "      border-color: transparent;\n",
              "      border-bottom-color: var(--fill-color);\n",
              "    }\n",
              "  }\n",
              "</style>\n",
              "\n",
              "  <script>\n",
              "    async function quickchart(key) {\n",
              "      const quickchartButtonEl =\n",
              "        document.querySelector('#' + key + ' button');\n",
              "      quickchartButtonEl.disabled = true;  // To prevent multiple clicks.\n",
              "      quickchartButtonEl.classList.add('colab-df-spinner');\n",
              "      try {\n",
              "        const charts = await google.colab.kernel.invokeFunction(\n",
              "            'suggestCharts', [key], {});\n",
              "      } catch (error) {\n",
              "        console.error('Error during call to suggestCharts:', error);\n",
              "      }\n",
              "      quickchartButtonEl.classList.remove('colab-df-spinner');\n",
              "      quickchartButtonEl.classList.add('colab-df-quickchart-complete');\n",
              "    }\n",
              "    (() => {\n",
              "      let quickchartButtonEl =\n",
              "        document.querySelector('#df-7ab437d1-bed3-4392-a541-3ad0127d10ee button');\n",
              "      quickchartButtonEl.style.display =\n",
              "        google.colab.kernel.accessAllowed ? 'block' : 'none';\n",
              "    })();\n",
              "  </script>\n",
              "</div>\n",
              "\n",
              "    </div>\n",
              "  </div>\n"
            ],
            "application/vnd.google.colaboratory.intrinsic+json": {
              "type": "dataframe",
              "variable_name": "X_new"
            }
          },
          "metadata": {},
          "execution_count": 9
        }
      ]
    },
    {
      "cell_type": "markdown",
      "source": [
        "## Train/Test split"
      ],
      "metadata": {
        "id": "DGI6yEoO2Mdq"
      }
    },
    {
      "cell_type": "markdown",
      "source": [
        "We split our dataframe into train and test splits, 70% and 30% respectively. We use the train set throughout the training process and we reserve the test set for latter during evaluation."
      ],
      "metadata": {
        "id": "JzujlptTQcl_"
      }
    },
    {
      "cell_type": "code",
      "source": [
        "X_train, X_test, y_train, y_test = train_test_split(X_new,\n",
        "                                                    y,\n",
        "                                                    test_size=0.3,\n",
        "                                                    stratify =y,\n",
        "                                                    random_state = 13)"
      ],
      "metadata": {
        "id": "2Z4y2tnnHKmR"
      },
      "execution_count": null,
      "outputs": []
    },
    {
      "cell_type": "code",
      "source": [
        "X_train.shape[1]"
      ],
      "metadata": {
        "colab": {
          "base_uri": "https://localhost:8080/"
        },
        "id": "ws7TEJ7SHPuw",
        "outputId": "f7084645-1abb-4100-9f5d-5e7d5d0c7ad7"
      },
      "execution_count": null,
      "outputs": [
        {
          "output_type": "execute_result",
          "data": {
            "text/plain": [
              "30"
            ]
          },
          "metadata": {},
          "execution_count": 11
        }
      ]
    },
    {
      "cell_type": "markdown",
      "source": [
        "This is just to make sure that all values are between 0 and 1."
      ],
      "metadata": {
        "id": "p4uvVvQaRADJ"
      }
    },
    {
      "cell_type": "code",
      "source": [
        "print(f\"Min and max feature values: {X_new.min()}, {X_new.max()}\")"
      ],
      "metadata": {
        "id": "2uiLpCii8-7s",
        "colab": {
          "base_uri": "https://localhost:8080/"
        },
        "outputId": "270ce4a6-45ed-44fa-bd30-7218bc68d15d"
      },
      "execution_count": null,
      "outputs": [
        {
          "output_type": "stream",
          "name": "stdout",
          "text": [
            "Min and max feature values: x0         0.0\n",
            "x3         0.0\n",
            "x4         0.0\n",
            "x7         0.0\n",
            "x9         0.0\n",
            "x1_0.0     0.0\n",
            "x1_1.0     0.0\n",
            "x2_0.0     0.0\n",
            "x2_1.0     0.0\n",
            "x2_2.0     0.0\n",
            "x2_3.0     0.0\n",
            "x5_0.0     0.0\n",
            "x5_1.0     0.0\n",
            "x6_0.0     0.0\n",
            "x6_1.0     0.0\n",
            "x6_2.0     0.0\n",
            "x8_0.0     0.0\n",
            "x8_1.0     0.0\n",
            "x10_0.0    0.0\n",
            "x10_1.0    0.0\n",
            "x10_2.0    0.0\n",
            "x11_0.0    0.0\n",
            "x11_1.0    0.0\n",
            "x11_2.0    0.0\n",
            "x11_3.0    0.0\n",
            "x11_4.0    0.0\n",
            "x12_0.0    0.0\n",
            "x12_1.0    0.0\n",
            "x12_2.0    0.0\n",
            "x12_3.0    0.0\n",
            "dtype: float64, x0         1.0\n",
            "x3         1.0\n",
            "x4         1.0\n",
            "x7         1.0\n",
            "x9         1.0\n",
            "x1_0.0     1.0\n",
            "x1_1.0     1.0\n",
            "x2_0.0     1.0\n",
            "x2_1.0     1.0\n",
            "x2_2.0     1.0\n",
            "x2_3.0     1.0\n",
            "x5_0.0     1.0\n",
            "x5_1.0     1.0\n",
            "x6_0.0     1.0\n",
            "x6_1.0     1.0\n",
            "x6_2.0     1.0\n",
            "x8_0.0     1.0\n",
            "x8_1.0     1.0\n",
            "x10_0.0    1.0\n",
            "x10_1.0    1.0\n",
            "x10_2.0    1.0\n",
            "x11_0.0    1.0\n",
            "x11_1.0    1.0\n",
            "x11_2.0    1.0\n",
            "x11_3.0    1.0\n",
            "x11_4.0    1.0\n",
            "x12_0.0    1.0\n",
            "x12_1.0    1.0\n",
            "x12_2.0    1.0\n",
            "x12_3.0    1.0\n",
            "dtype: float64\n"
          ]
        }
      ]
    },
    {
      "cell_type": "markdown",
      "source": [
        "# 3. OUTPUT\n",
        "Since the task is binary classification, the output layer is made of a single neuron which uses sigmoid as its activation function."
      ],
      "metadata": {
        "id": "muCQsrWe8hXx"
      }
    },
    {
      "cell_type": "markdown",
      "source": [
        "\n",
        "\n",
        "\n",
        "```\n",
        "# Output layer (binary classification)\n",
        "model.add(Dense(1, activation='sigmoid'))\n",
        "```\n",
        "\n"
      ],
      "metadata": {
        "id": "HIz3PB3uzuUg"
      }
    },
    {
      "cell_type": "markdown",
      "source": [
        "# 4. LOSS\n",
        "Binary Cross Entropy (BCE) is the ideal loss function in a binary classification task."
      ],
      "metadata": {
        "id": "EUVGM5Xw8lhk"
      }
    },
    {
      "cell_type": "markdown",
      "source": [
        "\n",
        "\n",
        "```\n",
        "# Compile the model\n",
        "model.compile(optimizer='adam',\n",
        "              loss='binary_crossentropy',\n",
        "              metrics=['accuracy'])\n",
        "```\n",
        "\n"
      ],
      "metadata": {
        "id": "_4fhku3A0HcH"
      }
    },
    {
      "cell_type": "markdown",
      "source": [
        "# 5. MODEL CONFIGURATION"
      ],
      "metadata": {
        "id": "QG-mqdsF8oc1"
      }
    },
    {
      "cell_type": "markdown",
      "source": [
        "## Base Model\n",
        "We create a base model to make sure our model works as intended and produces the correct kind of output."
      ],
      "metadata": {
        "id": "Qw9_Lbh30QbO"
      }
    },
    {
      "cell_type": "code",
      "source": [
        "def build_base_model(input_shape, dropout_rate=0.5):\n",
        "    \"\"\"\n",
        "    Builds the complete model by stacking Dense, Batch Normalization,\n",
        "    and Dropout layers.\n",
        "\n",
        "    Parameters:\n",
        "    - input_shape (tuple): Shape of the input data.\n",
        "    - dropout_rate (float): Dropout rate for each layer.\n",
        "\n",
        "    Returns:\n",
        "    - model (Sequential): A compiled Keras Sequential model.\n",
        "    \"\"\"\n",
        "    model = Sequential()\n",
        "\n",
        "    # First Dense layer with input shape\n",
        "    model.add(Dense(64, activation='sigmoid', input_shape=input_shape))\n",
        "    model.add(BatchNormalization())\n",
        "    model.add(Dropout(dropout_rate))\n",
        "\n",
        "    # Second Dense layer\n",
        "    model.add(Dense(32, activation='sigmoid'))\n",
        "    model.add(BatchNormalization())\n",
        "    model.add(Dropout(dropout_rate))\n",
        "\n",
        "    # Output layer (binary classification)\n",
        "    model.add(Dense(1, activation='sigmoid'))\n",
        "\n",
        "    # Compile the model\n",
        "    model.compile(optimizer='adam',\n",
        "                  loss='binary_crossentropy',\n",
        "                  metrics=['accuracy'])\n",
        "\n",
        "    return model\n"
      ],
      "metadata": {
        "id": "s5VsT7A289fv"
      },
      "execution_count": null,
      "outputs": []
    },
    {
      "cell_type": "code",
      "source": [
        "# Build the base_model\n",
        "input_shape = (X_train.shape[1],)  # Shape of the input data\n",
        "base_model = build_base_model(input_shape=input_shape, dropout_rate=0.5)"
      ],
      "metadata": {
        "id": "8pfGassk2yQX"
      },
      "execution_count": null,
      "outputs": []
    },
    {
      "cell_type": "code",
      "source": [
        "# Train the base_model\n",
        "base_history = base_model.fit(X_train,\n",
        "                    y_train,\n",
        "                    epochs=20,\n",
        "                    batch_size=16,\n",
        "                    validation_split=0.1)"
      ],
      "metadata": {
        "colab": {
          "base_uri": "https://localhost:8080/"
        },
        "id": "IOC4AgUX8CtN",
        "outputId": "c34e080b-5b6d-44a0-c01d-c9994339bef7"
      },
      "execution_count": null,
      "outputs": [
        {
          "output_type": "stream",
          "name": "stdout",
          "text": [
            "Epoch 1/20\n",
            "\u001b[1m12/12\u001b[0m \u001b[32m━━━━━━━━━━━━━━━━━━━━\u001b[0m\u001b[37m\u001b[0m \u001b[1m7s\u001b[0m 220ms/step - accuracy: 0.4876 - loss: 0.8389 - val_accuracy: 0.5909 - val_loss: 0.6683\n",
            "Epoch 2/20\n",
            "\u001b[1m12/12\u001b[0m \u001b[32m━━━━━━━━━━━━━━━━━━━━\u001b[0m\u001b[37m\u001b[0m \u001b[1m0s\u001b[0m 4ms/step - accuracy: 0.6180 - loss: 0.7425 - val_accuracy: 0.5909 - val_loss: 0.6610\n",
            "Epoch 3/20\n",
            "\u001b[1m12/12\u001b[0m \u001b[32m━━━━━━━━━━━━━━━━━━━━\u001b[0m\u001b[37m\u001b[0m \u001b[1m0s\u001b[0m 5ms/step - accuracy: 0.6768 - loss: 0.6239 - val_accuracy: 0.5909 - val_loss: 0.6535\n",
            "Epoch 4/20\n",
            "\u001b[1m12/12\u001b[0m \u001b[32m━━━━━━━━━━━━━━━━━━━━\u001b[0m\u001b[37m\u001b[0m \u001b[1m0s\u001b[0m 4ms/step - accuracy: 0.7245 - loss: 0.5199 - val_accuracy: 0.5909 - val_loss: 0.6467\n",
            "Epoch 5/20\n",
            "\u001b[1m12/12\u001b[0m \u001b[32m━━━━━━━━━━━━━━━━━━━━\u001b[0m\u001b[37m\u001b[0m \u001b[1m0s\u001b[0m 5ms/step - accuracy: 0.8231 - loss: 0.3992 - val_accuracy: 0.7727 - val_loss: 0.6413\n",
            "Epoch 6/20\n",
            "\u001b[1m12/12\u001b[0m \u001b[32m━━━━━━━━━━━━━━━━━━━━\u001b[0m\u001b[37m\u001b[0m \u001b[1m0s\u001b[0m 4ms/step - accuracy: 0.7265 - loss: 0.4691 - val_accuracy: 0.7727 - val_loss: 0.6368\n",
            "Epoch 7/20\n",
            "\u001b[1m12/12\u001b[0m \u001b[32m━━━━━━━━━━━━━━━━━━━━\u001b[0m\u001b[37m\u001b[0m \u001b[1m0s\u001b[0m 6ms/step - accuracy: 0.7782 - loss: 0.4707 - val_accuracy: 0.7727 - val_loss: 0.6313\n",
            "Epoch 8/20\n",
            "\u001b[1m12/12\u001b[0m \u001b[32m━━━━━━━━━━━━━━━━━━━━\u001b[0m\u001b[37m\u001b[0m \u001b[1m0s\u001b[0m 4ms/step - accuracy: 0.8185 - loss: 0.4311 - val_accuracy: 0.7727 - val_loss: 0.6287\n",
            "Epoch 9/20\n",
            "\u001b[1m12/12\u001b[0m \u001b[32m━━━━━━━━━━━━━━━━━━━━\u001b[0m\u001b[37m\u001b[0m \u001b[1m0s\u001b[0m 4ms/step - accuracy: 0.8078 - loss: 0.4152 - val_accuracy: 0.7273 - val_loss: 0.6229\n",
            "Epoch 10/20\n",
            "\u001b[1m12/12\u001b[0m \u001b[32m━━━━━━━━━━━━━━━━━━━━\u001b[0m\u001b[37m\u001b[0m \u001b[1m0s\u001b[0m 4ms/step - accuracy: 0.7895 - loss: 0.4877 - val_accuracy: 0.7273 - val_loss: 0.6137\n",
            "Epoch 11/20\n",
            "\u001b[1m12/12\u001b[0m \u001b[32m━━━━━━━━━━━━━━━━━━━━\u001b[0m\u001b[37m\u001b[0m \u001b[1m0s\u001b[0m 4ms/step - accuracy: 0.8173 - loss: 0.4222 - val_accuracy: 0.6818 - val_loss: 0.6056\n",
            "Epoch 12/20\n",
            "\u001b[1m12/12\u001b[0m \u001b[32m━━━━━━━━━━━━━━━━━━━━\u001b[0m\u001b[37m\u001b[0m \u001b[1m0s\u001b[0m 4ms/step - accuracy: 0.8022 - loss: 0.4615 - val_accuracy: 0.6818 - val_loss: 0.5996\n",
            "Epoch 13/20\n",
            "\u001b[1m12/12\u001b[0m \u001b[32m━━━━━━━━━━━━━━━━━━━━\u001b[0m\u001b[37m\u001b[0m \u001b[1m0s\u001b[0m 5ms/step - accuracy: 0.8390 - loss: 0.3628 - val_accuracy: 0.6818 - val_loss: 0.5902\n",
            "Epoch 14/20\n",
            "\u001b[1m12/12\u001b[0m \u001b[32m━━━━━━━━━━━━━━━━━━━━\u001b[0m\u001b[37m\u001b[0m \u001b[1m0s\u001b[0m 4ms/step - accuracy: 0.7790 - loss: 0.5149 - val_accuracy: 0.6818 - val_loss: 0.5826\n",
            "Epoch 15/20\n",
            "\u001b[1m12/12\u001b[0m \u001b[32m━━━━━━━━━━━━━━━━━━━━\u001b[0m\u001b[37m\u001b[0m \u001b[1m0s\u001b[0m 4ms/step - accuracy: 0.7947 - loss: 0.4201 - val_accuracy: 0.6818 - val_loss: 0.5716\n",
            "Epoch 16/20\n",
            "\u001b[1m12/12\u001b[0m \u001b[32m━━━━━━━━━━━━━━━━━━━━\u001b[0m\u001b[37m\u001b[0m \u001b[1m0s\u001b[0m 4ms/step - accuracy: 0.8701 - loss: 0.3560 - val_accuracy: 0.6818 - val_loss: 0.5626\n",
            "Epoch 17/20\n",
            "\u001b[1m12/12\u001b[0m \u001b[32m━━━━━━━━━━━━━━━━━━━━\u001b[0m\u001b[37m\u001b[0m \u001b[1m0s\u001b[0m 4ms/step - accuracy: 0.8161 - loss: 0.4206 - val_accuracy: 0.6818 - val_loss: 0.5552\n",
            "Epoch 18/20\n",
            "\u001b[1m12/12\u001b[0m \u001b[32m━━━━━━━━━━━━━━━━━━━━\u001b[0m\u001b[37m\u001b[0m \u001b[1m0s\u001b[0m 4ms/step - accuracy: 0.8337 - loss: 0.3403 - val_accuracy: 0.6818 - val_loss: 0.5478\n",
            "Epoch 19/20\n",
            "\u001b[1m12/12\u001b[0m \u001b[32m━━━━━━━━━━━━━━━━━━━━\u001b[0m\u001b[37m\u001b[0m \u001b[1m0s\u001b[0m 4ms/step - accuracy: 0.7960 - loss: 0.4935 - val_accuracy: 0.7273 - val_loss: 0.5411\n",
            "Epoch 20/20\n",
            "\u001b[1m12/12\u001b[0m \u001b[32m━━━━━━━━━━━━━━━━━━━━\u001b[0m\u001b[37m\u001b[0m \u001b[1m0s\u001b[0m 4ms/step - accuracy: 0.7993 - loss: 0.4394 - val_accuracy: 0.7273 - val_loss: 0.5363\n"
          ]
        }
      ]
    },
    {
      "cell_type": "markdown",
      "source": [
        "## Hyperparameter Tuning\n",
        "I decided to perform hyperparameter tuning manually due to some compatibility issues between Random Search CV and tensorflow. \\\n",
        "\n",
        "\n",
        "\n",
        "\n",
        "\n",
        "\n",
        "We define a function, build_model, that creates our model and allows the hyperparameters we want to optimize to be passed as parameters.\n",
        "\n",
        "\n",
        "\n",
        "\n",
        "\n",
        "\n",
        "\n",
        "\n"
      ],
      "metadata": {
        "id": "0sc_h0gC0Udl"
      }
    },
    {
      "cell_type": "code",
      "source": [
        "# Define the model-building function\n",
        "def build_model(units_1, units_2, dropout_rate, learning_rate):\n",
        "    model = Sequential()\n",
        "    model.add(Dense(units_1, activation='sigmoid', input_shape=(X_train.shape[1],)))\n",
        "    model.add(BatchNormalization())\n",
        "    model.add(Dropout(dropout_rate))\n",
        "\n",
        "    model.add(Dense(units_2, activation='sigmoid'))\n",
        "    model.add(BatchNormalization())\n",
        "    model.add(Dropout(dropout_rate))\n",
        "\n",
        "    model.add(Dense(1, activation='sigmoid'))\n",
        "\n",
        "    model.compile(optimizer=Adam(learning_rate=learning_rate), loss='binary_crossentropy', metrics=['accuracy'])\n",
        "\n",
        "    return model\n",
        "\n",
        "# Split data\n",
        "X_train_split, X_val_split, y_train_split, y_val_split = train_test_split(X_train, y_train, test_size=0.2, random_state=42)\n",
        "\n",
        "# Define the hyperparameter space\n",
        "dropout_rates = [0.3, 0.5]\n",
        "learning_rates = [0.001, 0.0005]\n",
        "batch_sizes = [16, 32]\n",
        "units_1_options = [64, 128]\n",
        "units_2_options = [32, 64]\n",
        "\n",
        "# Variables to track best results\n",
        "best_accuracy = 0\n",
        "best_params = {}\n",
        "\n",
        "# Manual tuning loop\n",
        "for dropout_rate in dropout_rates:\n",
        "    for learning_rate in learning_rates:\n",
        "        for batch_size in batch_sizes:\n",
        "            for units_1 in units_1_options:\n",
        "                for units_2 in units_2_options:\n",
        "                    # Build and train the model\n",
        "                    model = build_model(units_1, units_2, dropout_rate, learning_rate)\n",
        "                    history = model.fit(X_train_split, y_train_split, epochs=10, batch_size=batch_size, verbose=0, validation_data=(X_val_split, y_val_split))\n",
        "\n",
        "                    # Evaluate the model\n",
        "                    val_accuracy = np.max(history.history['val_accuracy'])\n",
        "\n",
        "                    # Check if this model has the best validation accuracy\n",
        "                    if val_accuracy > best_accuracy:\n",
        "                        best_accuracy = val_accuracy\n",
        "                        best_params = {\n",
        "                            'dropout_rate': dropout_rate,\n",
        "                            'learning_rate': learning_rate,\n",
        "                            'batch_size': batch_size,\n",
        "                            'units_1': units_1,\n",
        "                            'units_2': units_2\n",
        "                        }\n",
        "                    print(f\"Tested Params - dropout: {dropout_rate}, lr: {learning_rate}, batch: {batch_size}, units_1: {units_1}, units_2: {units_2} => Val Acc: {val_accuracy:.4f}\")\n",
        "\n",
        "# Print the best results\n",
        "print(f\"Best Validation Accuracy: {best_accuracy:.4f}\")\n",
        "print(f\"Best Hyperparameters: {best_params}\")\n"
      ],
      "metadata": {
        "colab": {
          "base_uri": "https://localhost:8080/"
        },
        "id": "LhmCAsf3MQSr",
        "outputId": "9283633f-788c-4c1c-a43b-273cea4ed10d"
      },
      "execution_count": null,
      "outputs": [
        {
          "output_type": "stream",
          "name": "stdout",
          "text": [
            "Tested Params - dropout: 0.3, lr: 0.001, batch: 16, units_1: 64, units_2: 32 => Val Acc: 0.4651\n",
            "Tested Params - dropout: 0.3, lr: 0.001, batch: 16, units_1: 64, units_2: 64 => Val Acc: 0.5581\n",
            "Tested Params - dropout: 0.3, lr: 0.001, batch: 16, units_1: 128, units_2: 32 => Val Acc: 0.6047\n",
            "Tested Params - dropout: 0.3, lr: 0.001, batch: 16, units_1: 128, units_2: 64 => Val Acc: 0.5581\n",
            "Tested Params - dropout: 0.3, lr: 0.001, batch: 32, units_1: 64, units_2: 32 => Val Acc: 0.4419\n",
            "Tested Params - dropout: 0.3, lr: 0.001, batch: 32, units_1: 64, units_2: 64 => Val Acc: 0.4419\n",
            "Tested Params - dropout: 0.3, lr: 0.001, batch: 32, units_1: 128, units_2: 32 => Val Acc: 0.6512\n",
            "Tested Params - dropout: 0.3, lr: 0.001, batch: 32, units_1: 128, units_2: 64 => Val Acc: 0.5581\n",
            "Tested Params - dropout: 0.3, lr: 0.0005, batch: 16, units_1: 64, units_2: 32 => Val Acc: 0.4651\n",
            "Tested Params - dropout: 0.3, lr: 0.0005, batch: 16, units_1: 64, units_2: 64 => Val Acc: 0.5581\n",
            "Tested Params - dropout: 0.3, lr: 0.0005, batch: 16, units_1: 128, units_2: 32 => Val Acc: 0.7442\n",
            "Tested Params - dropout: 0.3, lr: 0.0005, batch: 16, units_1: 128, units_2: 64 => Val Acc: 0.4419\n",
            "Tested Params - dropout: 0.3, lr: 0.0005, batch: 32, units_1: 64, units_2: 32 => Val Acc: 0.6047\n",
            "Tested Params - dropout: 0.3, lr: 0.0005, batch: 32, units_1: 64, units_2: 64 => Val Acc: 0.4419\n",
            "Tested Params - dropout: 0.3, lr: 0.0005, batch: 32, units_1: 128, units_2: 32 => Val Acc: 0.5581\n",
            "Tested Params - dropout: 0.3, lr: 0.0005, batch: 32, units_1: 128, units_2: 64 => Val Acc: 0.6512\n",
            "Tested Params - dropout: 0.5, lr: 0.001, batch: 16, units_1: 64, units_2: 32 => Val Acc: 0.4419\n",
            "Tested Params - dropout: 0.5, lr: 0.001, batch: 16, units_1: 64, units_2: 64 => Val Acc: 0.7674\n",
            "Tested Params - dropout: 0.5, lr: 0.001, batch: 16, units_1: 128, units_2: 32 => Val Acc: 0.6744\n",
            "Tested Params - dropout: 0.5, lr: 0.001, batch: 16, units_1: 128, units_2: 64 => Val Acc: 0.7907\n",
            "Tested Params - dropout: 0.5, lr: 0.001, batch: 32, units_1: 64, units_2: 32 => Val Acc: 0.5581\n",
            "Tested Params - dropout: 0.5, lr: 0.001, batch: 32, units_1: 64, units_2: 64 => Val Acc: 0.6977\n",
            "Tested Params - dropout: 0.5, lr: 0.001, batch: 32, units_1: 128, units_2: 32 => Val Acc: 0.7907\n",
            "Tested Params - dropout: 0.5, lr: 0.001, batch: 32, units_1: 128, units_2: 64 => Val Acc: 0.4419\n",
            "Tested Params - dropout: 0.5, lr: 0.0005, batch: 16, units_1: 64, units_2: 32 => Val Acc: 0.6977\n",
            "Tested Params - dropout: 0.5, lr: 0.0005, batch: 16, units_1: 64, units_2: 64 => Val Acc: 0.5581\n",
            "Tested Params - dropout: 0.5, lr: 0.0005, batch: 16, units_1: 128, units_2: 32 => Val Acc: 0.5581\n",
            "Tested Params - dropout: 0.5, lr: 0.0005, batch: 16, units_1: 128, units_2: 64 => Val Acc: 0.5814\n",
            "Tested Params - dropout: 0.5, lr: 0.0005, batch: 32, units_1: 64, units_2: 32 => Val Acc: 0.4419\n",
            "Tested Params - dropout: 0.5, lr: 0.0005, batch: 32, units_1: 64, units_2: 64 => Val Acc: 0.4419\n",
            "Tested Params - dropout: 0.5, lr: 0.0005, batch: 32, units_1: 128, units_2: 32 => Val Acc: 0.4419\n",
            "Tested Params - dropout: 0.5, lr: 0.0005, batch: 32, units_1: 128, units_2: 64 => Val Acc: 0.4419\n",
            "Best Validation Accuracy: 0.7907\n",
            "Best Hyperparameters: {'dropout_rate': 0.5, 'learning_rate': 0.001, 'batch_size': 16, 'units_1': 128, 'units_2': 64}\n"
          ]
        }
      ]
    },
    {
      "cell_type": "markdown",
      "source": [
        "With hyperparameter tuning complete, we use the best parameters found to build our actual model."
      ],
      "metadata": {
        "id": "U4uK--zXWzc6"
      }
    },
    {
      "cell_type": "code",
      "source": [
        "model = build_model(dropout_rate = best_params['dropout_rate'],\n",
        "                    units_1 = best_params['units_1'],\n",
        "                    units_2 = best_params['units_2'],\n",
        "                    learning_rate = best_params['learning_rate'])\n",
        "\n",
        "model.summary()"
      ],
      "metadata": {
        "id": "mdvWfgU3OruG",
        "colab": {
          "base_uri": "https://localhost:8080/",
          "height": 385
        },
        "outputId": "9dd92bb6-86f0-4367-ea24-b502d24782c9"
      },
      "execution_count": null,
      "outputs": [
        {
          "output_type": "display_data",
          "data": {
            "text/plain": [
              "\u001b[1mModel: \"sequential_33\"\u001b[0m\n"
            ],
            "text/html": [
              "<pre style=\"white-space:pre;overflow-x:auto;line-height:normal;font-family:Menlo,'DejaVu Sans Mono',consolas,'Courier New',monospace\"><span style=\"font-weight: bold\">Model: \"sequential_33\"</span>\n",
              "</pre>\n"
            ]
          },
          "metadata": {}
        },
        {
          "output_type": "display_data",
          "data": {
            "text/plain": [
              "┏━━━━━━━━━━━━━━━━━━━━━━━━━━━━━━━━━━━━━━┳━━━━━━━━━━━━━━━━━━━━━━━━━━━━━┳━━━━━━━━━━━━━━━━━┓\n",
              "┃\u001b[1m \u001b[0m\u001b[1mLayer (type)                        \u001b[0m\u001b[1m \u001b[0m┃\u001b[1m \u001b[0m\u001b[1mOutput Shape               \u001b[0m\u001b[1m \u001b[0m┃\u001b[1m \u001b[0m\u001b[1m        Param #\u001b[0m\u001b[1m \u001b[0m┃\n",
              "┡━━━━━━━━━━━━━━━━━━━━━━━━━━━━━━━━━━━━━━╇━━━━━━━━━━━━━━━━━━━━━━━━━━━━━╇━━━━━━━━━━━━━━━━━┩\n",
              "│ dense_99 (\u001b[38;5;33mDense\u001b[0m)                     │ (\u001b[38;5;45mNone\u001b[0m, \u001b[38;5;34m128\u001b[0m)                 │           \u001b[38;5;34m3,968\u001b[0m │\n",
              "├──────────────────────────────────────┼─────────────────────────────┼─────────────────┤\n",
              "│ batch_normalization_66               │ (\u001b[38;5;45mNone\u001b[0m, \u001b[38;5;34m128\u001b[0m)                 │             \u001b[38;5;34m512\u001b[0m │\n",
              "│ (\u001b[38;5;33mBatchNormalization\u001b[0m)                 │                             │                 │\n",
              "├──────────────────────────────────────┼─────────────────────────────┼─────────────────┤\n",
              "│ dropout_66 (\u001b[38;5;33mDropout\u001b[0m)                 │ (\u001b[38;5;45mNone\u001b[0m, \u001b[38;5;34m128\u001b[0m)                 │               \u001b[38;5;34m0\u001b[0m │\n",
              "├──────────────────────────────────────┼─────────────────────────────┼─────────────────┤\n",
              "│ dense_100 (\u001b[38;5;33mDense\u001b[0m)                    │ (\u001b[38;5;45mNone\u001b[0m, \u001b[38;5;34m64\u001b[0m)                  │           \u001b[38;5;34m8,256\u001b[0m │\n",
              "├──────────────────────────────────────┼─────────────────────────────┼─────────────────┤\n",
              "│ batch_normalization_67               │ (\u001b[38;5;45mNone\u001b[0m, \u001b[38;5;34m64\u001b[0m)                  │             \u001b[38;5;34m256\u001b[0m │\n",
              "│ (\u001b[38;5;33mBatchNormalization\u001b[0m)                 │                             │                 │\n",
              "├──────────────────────────────────────┼─────────────────────────────┼─────────────────┤\n",
              "│ dropout_67 (\u001b[38;5;33mDropout\u001b[0m)                 │ (\u001b[38;5;45mNone\u001b[0m, \u001b[38;5;34m64\u001b[0m)                  │               \u001b[38;5;34m0\u001b[0m │\n",
              "├──────────────────────────────────────┼─────────────────────────────┼─────────────────┤\n",
              "│ dense_101 (\u001b[38;5;33mDense\u001b[0m)                    │ (\u001b[38;5;45mNone\u001b[0m, \u001b[38;5;34m1\u001b[0m)                   │              \u001b[38;5;34m65\u001b[0m │\n",
              "└──────────────────────────────────────┴─────────────────────────────┴─────────────────┘\n"
            ],
            "text/html": [
              "<pre style=\"white-space:pre;overflow-x:auto;line-height:normal;font-family:Menlo,'DejaVu Sans Mono',consolas,'Courier New',monospace\">┏━━━━━━━━━━━━━━━━━━━━━━━━━━━━━━━━━━━━━━┳━━━━━━━━━━━━━━━━━━━━━━━━━━━━━┳━━━━━━━━━━━━━━━━━┓\n",
              "┃<span style=\"font-weight: bold\"> Layer (type)                         </span>┃<span style=\"font-weight: bold\"> Output Shape                </span>┃<span style=\"font-weight: bold\">         Param # </span>┃\n",
              "┡━━━━━━━━━━━━━━━━━━━━━━━━━━━━━━━━━━━━━━╇━━━━━━━━━━━━━━━━━━━━━━━━━━━━━╇━━━━━━━━━━━━━━━━━┩\n",
              "│ dense_99 (<span style=\"color: #0087ff; text-decoration-color: #0087ff\">Dense</span>)                     │ (<span style=\"color: #00d7ff; text-decoration-color: #00d7ff\">None</span>, <span style=\"color: #00af00; text-decoration-color: #00af00\">128</span>)                 │           <span style=\"color: #00af00; text-decoration-color: #00af00\">3,968</span> │\n",
              "├──────────────────────────────────────┼─────────────────────────────┼─────────────────┤\n",
              "│ batch_normalization_66               │ (<span style=\"color: #00d7ff; text-decoration-color: #00d7ff\">None</span>, <span style=\"color: #00af00; text-decoration-color: #00af00\">128</span>)                 │             <span style=\"color: #00af00; text-decoration-color: #00af00\">512</span> │\n",
              "│ (<span style=\"color: #0087ff; text-decoration-color: #0087ff\">BatchNormalization</span>)                 │                             │                 │\n",
              "├──────────────────────────────────────┼─────────────────────────────┼─────────────────┤\n",
              "│ dropout_66 (<span style=\"color: #0087ff; text-decoration-color: #0087ff\">Dropout</span>)                 │ (<span style=\"color: #00d7ff; text-decoration-color: #00d7ff\">None</span>, <span style=\"color: #00af00; text-decoration-color: #00af00\">128</span>)                 │               <span style=\"color: #00af00; text-decoration-color: #00af00\">0</span> │\n",
              "├──────────────────────────────────────┼─────────────────────────────┼─────────────────┤\n",
              "│ dense_100 (<span style=\"color: #0087ff; text-decoration-color: #0087ff\">Dense</span>)                    │ (<span style=\"color: #00d7ff; text-decoration-color: #00d7ff\">None</span>, <span style=\"color: #00af00; text-decoration-color: #00af00\">64</span>)                  │           <span style=\"color: #00af00; text-decoration-color: #00af00\">8,256</span> │\n",
              "├──────────────────────────────────────┼─────────────────────────────┼─────────────────┤\n",
              "│ batch_normalization_67               │ (<span style=\"color: #00d7ff; text-decoration-color: #00d7ff\">None</span>, <span style=\"color: #00af00; text-decoration-color: #00af00\">64</span>)                  │             <span style=\"color: #00af00; text-decoration-color: #00af00\">256</span> │\n",
              "│ (<span style=\"color: #0087ff; text-decoration-color: #0087ff\">BatchNormalization</span>)                 │                             │                 │\n",
              "├──────────────────────────────────────┼─────────────────────────────┼─────────────────┤\n",
              "│ dropout_67 (<span style=\"color: #0087ff; text-decoration-color: #0087ff\">Dropout</span>)                 │ (<span style=\"color: #00d7ff; text-decoration-color: #00d7ff\">None</span>, <span style=\"color: #00af00; text-decoration-color: #00af00\">64</span>)                  │               <span style=\"color: #00af00; text-decoration-color: #00af00\">0</span> │\n",
              "├──────────────────────────────────────┼─────────────────────────────┼─────────────────┤\n",
              "│ dense_101 (<span style=\"color: #0087ff; text-decoration-color: #0087ff\">Dense</span>)                    │ (<span style=\"color: #00d7ff; text-decoration-color: #00d7ff\">None</span>, <span style=\"color: #00af00; text-decoration-color: #00af00\">1</span>)                   │              <span style=\"color: #00af00; text-decoration-color: #00af00\">65</span> │\n",
              "└──────────────────────────────────────┴─────────────────────────────┴─────────────────┘\n",
              "</pre>\n"
            ]
          },
          "metadata": {}
        },
        {
          "output_type": "display_data",
          "data": {
            "text/plain": [
              "\u001b[1m Total params: \u001b[0m\u001b[38;5;34m13,057\u001b[0m (51.00 KB)\n"
            ],
            "text/html": [
              "<pre style=\"white-space:pre;overflow-x:auto;line-height:normal;font-family:Menlo,'DejaVu Sans Mono',consolas,'Courier New',monospace\"><span style=\"font-weight: bold\"> Total params: </span><span style=\"color: #00af00; text-decoration-color: #00af00\">13,057</span> (51.00 KB)\n",
              "</pre>\n"
            ]
          },
          "metadata": {}
        },
        {
          "output_type": "display_data",
          "data": {
            "text/plain": [
              "\u001b[1m Trainable params: \u001b[0m\u001b[38;5;34m12,673\u001b[0m (49.50 KB)\n"
            ],
            "text/html": [
              "<pre style=\"white-space:pre;overflow-x:auto;line-height:normal;font-family:Menlo,'DejaVu Sans Mono',consolas,'Courier New',monospace\"><span style=\"font-weight: bold\"> Trainable params: </span><span style=\"color: #00af00; text-decoration-color: #00af00\">12,673</span> (49.50 KB)\n",
              "</pre>\n"
            ]
          },
          "metadata": {}
        },
        {
          "output_type": "display_data",
          "data": {
            "text/plain": [
              "\u001b[1m Non-trainable params: \u001b[0m\u001b[38;5;34m384\u001b[0m (1.50 KB)\n"
            ],
            "text/html": [
              "<pre style=\"white-space:pre;overflow-x:auto;line-height:normal;font-family:Menlo,'DejaVu Sans Mono',consolas,'Courier New',monospace\"><span style=\"font-weight: bold\"> Non-trainable params: </span><span style=\"color: #00af00; text-decoration-color: #00af00\">384</span> (1.50 KB)\n",
              "</pre>\n"
            ]
          },
          "metadata": {}
        }
      ]
    },
    {
      "cell_type": "markdown",
      "source": [
        "We, then, train our model on the train set to see its performance."
      ],
      "metadata": {
        "id": "DlU-cvcUXMEY"
      }
    },
    {
      "cell_type": "code",
      "source": [
        "history = model.fit(X_train,\n",
        "                    y_train,\n",
        "                    epochs=20,\n",
        "                    batch_size=best_params['batch_size'],\n",
        "                    validation_split=0.1)"
      ],
      "metadata": {
        "colab": {
          "base_uri": "https://localhost:8080/"
        },
        "id": "jGrANYurO_3r",
        "outputId": "524b7689-7e3c-4888-afd9-ebc734923771"
      },
      "execution_count": null,
      "outputs": [
        {
          "output_type": "stream",
          "name": "stdout",
          "text": [
            "Epoch 1/20\n",
            "\u001b[1m12/12\u001b[0m \u001b[32m━━━━━━━━━━━━━━━━━━━━\u001b[0m\u001b[37m\u001b[0m \u001b[1m7s\u001b[0m 367ms/step - accuracy: 0.5563 - loss: 0.9738 - val_accuracy: 0.5909 - val_loss: 0.6608\n",
            "Epoch 2/20\n",
            "\u001b[1m12/12\u001b[0m \u001b[32m━━━━━━━━━━━━━━━━━━━━\u001b[0m\u001b[37m\u001b[0m \u001b[1m0s\u001b[0m 4ms/step - accuracy: 0.7632 - loss: 0.5651 - val_accuracy: 0.5909 - val_loss: 0.6483\n",
            "Epoch 3/20\n",
            "\u001b[1m12/12\u001b[0m \u001b[32m━━━━━━━━━━━━━━━━━━━━\u001b[0m\u001b[37m\u001b[0m \u001b[1m0s\u001b[0m 4ms/step - accuracy: 0.8095 - loss: 0.4734 - val_accuracy: 0.5909 - val_loss: 0.6417\n",
            "Epoch 4/20\n",
            "\u001b[1m12/12\u001b[0m \u001b[32m━━━━━━━━━━━━━━━━━━━━\u001b[0m\u001b[37m\u001b[0m \u001b[1m0s\u001b[0m 4ms/step - accuracy: 0.8079 - loss: 0.4930 - val_accuracy: 0.6364 - val_loss: 0.6393\n",
            "Epoch 5/20\n",
            "\u001b[1m12/12\u001b[0m \u001b[32m━━━━━━━━━━━━━━━━━━━━\u001b[0m\u001b[37m\u001b[0m \u001b[1m0s\u001b[0m 4ms/step - accuracy: 0.8084 - loss: 0.4381 - val_accuracy: 0.7727 - val_loss: 0.6400\n",
            "Epoch 6/20\n",
            "\u001b[1m12/12\u001b[0m \u001b[32m━━━━━━━━━━━━━━━━━━━━\u001b[0m\u001b[37m\u001b[0m \u001b[1m0s\u001b[0m 5ms/step - accuracy: 0.8045 - loss: 0.6129 - val_accuracy: 0.7727 - val_loss: 0.6405\n",
            "Epoch 7/20\n",
            "\u001b[1m12/12\u001b[0m \u001b[32m━━━━━━━━━━━━━━━━━━━━\u001b[0m\u001b[37m\u001b[0m \u001b[1m0s\u001b[0m 4ms/step - accuracy: 0.8007 - loss: 0.4394 - val_accuracy: 0.7273 - val_loss: 0.6398\n",
            "Epoch 8/20\n",
            "\u001b[1m12/12\u001b[0m \u001b[32m━━━━━━━━━━━━━━━━━━━━\u001b[0m\u001b[37m\u001b[0m \u001b[1m0s\u001b[0m 4ms/step - accuracy: 0.8569 - loss: 0.3936 - val_accuracy: 0.7727 - val_loss: 0.6386\n",
            "Epoch 9/20\n",
            "\u001b[1m12/12\u001b[0m \u001b[32m━━━━━━━━━━━━━━━━━━━━\u001b[0m\u001b[37m\u001b[0m \u001b[1m0s\u001b[0m 4ms/step - accuracy: 0.8142 - loss: 0.4709 - val_accuracy: 0.7727 - val_loss: 0.6354\n",
            "Epoch 10/20\n",
            "\u001b[1m12/12\u001b[0m \u001b[32m━━━━━━━━━━━━━━━━━━━━\u001b[0m\u001b[37m\u001b[0m \u001b[1m0s\u001b[0m 4ms/step - accuracy: 0.8218 - loss: 0.4821 - val_accuracy: 0.7727 - val_loss: 0.6329\n",
            "Epoch 11/20\n",
            "\u001b[1m12/12\u001b[0m \u001b[32m━━━━━━━━━━━━━━━━━━━━\u001b[0m\u001b[37m\u001b[0m \u001b[1m0s\u001b[0m 4ms/step - accuracy: 0.8173 - loss: 0.4073 - val_accuracy: 0.6818 - val_loss: 0.6323\n",
            "Epoch 12/20\n",
            "\u001b[1m12/12\u001b[0m \u001b[32m━━━━━━━━━━━━━━━━━━━━\u001b[0m\u001b[37m\u001b[0m \u001b[1m0s\u001b[0m 4ms/step - accuracy: 0.8012 - loss: 0.4857 - val_accuracy: 0.6818 - val_loss: 0.6287\n",
            "Epoch 13/20\n",
            "\u001b[1m12/12\u001b[0m \u001b[32m━━━━━━━━━━━━━━━━━━━━\u001b[0m\u001b[37m\u001b[0m \u001b[1m0s\u001b[0m 4ms/step - accuracy: 0.7907 - loss: 0.4542 - val_accuracy: 0.6818 - val_loss: 0.6232\n",
            "Epoch 14/20\n",
            "\u001b[1m12/12\u001b[0m \u001b[32m━━━━━━━━━━━━━━━━━━━━\u001b[0m\u001b[37m\u001b[0m \u001b[1m0s\u001b[0m 4ms/step - accuracy: 0.7989 - loss: 0.5810 - val_accuracy: 0.7273 - val_loss: 0.6126\n",
            "Epoch 15/20\n",
            "\u001b[1m12/12\u001b[0m \u001b[32m━━━━━━━━━━━━━━━━━━━━\u001b[0m\u001b[37m\u001b[0m \u001b[1m0s\u001b[0m 4ms/step - accuracy: 0.7890 - loss: 0.5039 - val_accuracy: 0.7273 - val_loss: 0.6015\n",
            "Epoch 16/20\n",
            "\u001b[1m12/12\u001b[0m \u001b[32m━━━━━━━━━━━━━━━━━━━━\u001b[0m\u001b[37m\u001b[0m \u001b[1m0s\u001b[0m 5ms/step - accuracy: 0.8252 - loss: 0.3470 - val_accuracy: 0.7273 - val_loss: 0.5978\n",
            "Epoch 17/20\n",
            "\u001b[1m12/12\u001b[0m \u001b[32m━━━━━━━━━━━━━━━━━━━━\u001b[0m\u001b[37m\u001b[0m \u001b[1m0s\u001b[0m 5ms/step - accuracy: 0.8387 - loss: 0.4215 - val_accuracy: 0.7273 - val_loss: 0.5896\n",
            "Epoch 18/20\n",
            "\u001b[1m12/12\u001b[0m \u001b[32m━━━━━━━━━━━━━━━━━━━━\u001b[0m\u001b[37m\u001b[0m \u001b[1m0s\u001b[0m 4ms/step - accuracy: 0.8760 - loss: 0.3785 - val_accuracy: 0.7273 - val_loss: 0.5849\n",
            "Epoch 19/20\n",
            "\u001b[1m12/12\u001b[0m \u001b[32m━━━━━━━━━━━━━━━━━━━━\u001b[0m\u001b[37m\u001b[0m \u001b[1m0s\u001b[0m 4ms/step - accuracy: 0.8228 - loss: 0.4337 - val_accuracy: 0.7727 - val_loss: 0.5758\n",
            "Epoch 20/20\n",
            "\u001b[1m12/12\u001b[0m \u001b[32m━━━━━━━━━━━━━━━━━━━━\u001b[0m\u001b[37m\u001b[0m \u001b[1m0s\u001b[0m 4ms/step - accuracy: 0.8233 - loss: 0.4015 - val_accuracy: 0.7727 - val_loss: 0.5699\n"
          ]
        }
      ]
    },
    {
      "cell_type": "markdown",
      "source": [
        "# 6. MODEL EVALUATION"
      ],
      "metadata": {
        "id": "V0OLcX7D8us2"
      }
    },
    {
      "cell_type": "markdown",
      "source": [
        "## K-fold Cross Validation\n",
        "We train our model, furthermore, by using K-fold cross validation to make it much more robust.\\\n",
        "The accuracy and loss of the 5 folds is averaged."
      ],
      "metadata": {
        "id": "Z8Ma3XYS0nsB"
      }
    },
    {
      "cell_type": "code",
      "source": [
        "def k_fold_cross_validation(X, y, k=5, epochs=20, batch_size=best_params['batch_size']):\n",
        "    \"\"\"\n",
        "    Performs k-fold cross-validation on the model.\n",
        "\n",
        "    Parameters:\n",
        "    - X (numpy array): Feature data.\n",
        "    - y (numpy array): Target labels.\n",
        "    - k (int): Number of folds for cross-validation.\n",
        "    - epochs (int): Number of epochs for training.\n",
        "    - batch_size (int): Batch size for training.\n",
        "\n",
        "    Returns:\n",
        "    - average_accuracy (float): Average accuracy over all folds.\n",
        "    - average_loss (float): Average loss over all folds.\n",
        "    \"\"\"\n",
        "    # Initialize the KFold object\n",
        "    kf = KFold(n_splits=k, shuffle=True, random_state=42)\n",
        "\n",
        "    fold_accuracies = []\n",
        "    fold_losses = []\n",
        "\n",
        "    # Loop over each fold\n",
        "    for fold_idx, (train_index, test_index) in enumerate(kf.split(X)):\n",
        "        print(f\"Training fold {fold_idx + 1}/{k}...\")\n",
        "\n",
        "        # Split data into train and validation sets for this fold\n",
        "        X_train, X_val = X.iloc[train_index], X.iloc[test_index]\n",
        "        y_train, y_val = y[train_index], y[test_index]\n",
        "\n",
        "        # Build a new instance of the model for each fold\n",
        "        model = build_model(dropout_rate = best_params['dropout_rate'],\n",
        "                    units_1 = best_params['units_1'],\n",
        "                    units_2 = best_params['units_2'],\n",
        "                    learning_rate = best_params['learning_rate'])\n",
        "\n",
        "        # Train the model\n",
        "        history = model.fit(X_train, y_train, epochs=epochs, batch_size=batch_size, validation_data=(X_val, y_val), verbose=0)\n",
        "\n",
        "        # Evaluate the model on the validation data\n",
        "        val_loss, val_accuracy = model.evaluate(X_val, y_val, verbose=0)\n",
        "\n",
        "        # Save the accuracy and loss for this fold\n",
        "        fold_accuracies.append(val_accuracy)\n",
        "        fold_losses.append(val_loss)\n",
        "\n",
        "    # Calculate the average accuracy and loss over all folds\n",
        "    average_accuracy = np.mean(fold_accuracies)\n",
        "    average_loss = np.mean(fold_losses)\n",
        "\n",
        "    print(f\"\\nAverage Accuracy over {k} folds: {average_accuracy:.4f}\")\n",
        "    print(f\"Average Loss over {k} folds: {average_loss:.4f}\")\n",
        "\n",
        "    return average_accuracy, average_loss\n"
      ],
      "metadata": {
        "id": "9k2t3NbIBT07"
      },
      "execution_count": null,
      "outputs": []
    },
    {
      "cell_type": "code",
      "source": [
        "k = 5  # Number of folds\n",
        "epochs = 20\n",
        "batch_size = best_params['batch_size']\n",
        "\n",
        "# Perform k-fold cross-validation\n",
        "avg_accuracy, avg_loss = k_fold_cross_validation(X_train, y_train, k=k, epochs=epochs, batch_size=batch_size)\n"
      ],
      "metadata": {
        "colab": {
          "base_uri": "https://localhost:8080/"
        },
        "id": "bKX0VxUyBYYI",
        "outputId": "2694d403-fe66-46a5-f375-69a92efdfc30"
      },
      "execution_count": null,
      "outputs": [
        {
          "output_type": "stream",
          "name": "stdout",
          "text": [
            "Training fold 1/5...\n",
            "Training fold 2/5...\n",
            "Training fold 3/5...\n",
            "Training fold 4/5...\n",
            "Training fold 5/5...\n",
            "\n",
            "Average Accuracy over 5 folds: 0.7971\n",
            "Average Loss over 5 folds: 0.5340\n"
          ]
        }
      ]
    },
    {
      "cell_type": "markdown",
      "source": [
        "## Test Set Performance\n",
        "To measure the generalization capabilities of the model on unseen data, we evaluate it on the test set that we reserved earlier.\n",
        "\n",
        "This test set is previously unseen by the model."
      ],
      "metadata": {
        "id": "686iZYcC0uMj"
      }
    },
    {
      "cell_type": "code",
      "source": [
        "# Evaluate the model on the test data\n",
        "test_loss, test_accuracy = model.evaluate(X_test, y_test)\n",
        "print(f\"Test Accuracy: {test_accuracy * 100:.2f}%\")"
      ],
      "metadata": {
        "id": "ZA6D-3Lu-IpS",
        "colab": {
          "base_uri": "https://localhost:8080/"
        },
        "outputId": "eb96fbe8-ed6a-493b-da01-58ed6628c49c"
      },
      "execution_count": null,
      "outputs": [
        {
          "output_type": "stream",
          "name": "stdout",
          "text": [
            "\u001b[1m3/3\u001b[0m \u001b[32m━━━━━━━━━━━━━━━━━━━━\u001b[0m\u001b[37m\u001b[0m \u001b[1m1s\u001b[0m 246ms/step - accuracy: 0.7894 - loss: 0.4858\n",
            "Test Accuracy: 81.32%\n"
          ]
        }
      ]
    },
    {
      "cell_type": "markdown",
      "source": [
        "## Visualization\n",
        "Below we will plot the learning curve and confusion matrix.\n",
        "\n",
        "The learning curve is plotted so that we can observe the way the model behaves during training and it can also tell us wether there is overfitting or not.\n",
        "\n",
        "\n",
        "The confusion matrix is useful to visualize the classification results.\n"
      ],
      "metadata": {
        "id": "_LLGbOfE05sM"
      }
    },
    {
      "cell_type": "code",
      "source": [
        "def plot_confusion_matrix(model, X_test, y_test):\n",
        "    # Get predictions from the model\n",
        "    y_pred = model.predict(X_test)\n",
        "    y_pred_classes = (y_pred > 0.5).astype(\"int32\")  # Convert probabilities to binary predictions\n",
        "\n",
        "    # Calculate confusion matrix\n",
        "    cm = confusion_matrix(y_test, y_pred_classes)\n",
        "\n",
        "    # Plot confusion matrix\n",
        "    disp = ConfusionMatrixDisplay(confusion_matrix=cm)\n",
        "    disp.plot(cmap=plt.cm.Blues)\n",
        "    plt.title(\"Confusion Matrix\")\n",
        "    plt.show()\n"
      ],
      "metadata": {
        "id": "2ZW1nBtYRhrI"
      },
      "execution_count": null,
      "outputs": []
    },
    {
      "cell_type": "code",
      "source": [
        "def plot_learning_curve(history):\n",
        "    # Get training and validation metrics from history\n",
        "    acc = history.history['accuracy']\n",
        "    val_acc = history.history['val_accuracy']\n",
        "    loss = history.history['loss']\n",
        "    val_loss = history.history['val_loss']\n",
        "\n",
        "    # Plot accuracy learning curve\n",
        "    plt.figure(figsize=(12, 5))\n",
        "\n",
        "    # Accuracy plot\n",
        "    plt.subplot(1, 2, 1)\n",
        "    plt.plot(acc, label='Training Accuracy')\n",
        "    plt.plot(val_acc, label='Validation Accuracy')\n",
        "    plt.title('Learning Curve (Accuracy)')\n",
        "    plt.xlabel('Epochs')\n",
        "    plt.ylabel('Accuracy')\n",
        "    plt.legend()\n",
        "\n",
        "    # Loss plot\n",
        "    plt.subplot(1, 2, 2)\n",
        "    plt.plot(loss, label='Training Loss')\n",
        "    plt.plot(val_loss, label='Validation Loss')\n",
        "    plt.title('Learning Curve (Loss)')\n",
        "    plt.xlabel('Epochs')\n",
        "    plt.ylabel('Loss')\n",
        "    plt.legend()\n",
        "\n",
        "    plt.tight_layout()\n",
        "    plt.show()\n"
      ],
      "metadata": {
        "id": "3s-Wrk_2SOC_"
      },
      "execution_count": null,
      "outputs": []
    },
    {
      "cell_type": "code",
      "source": [
        "# Plot learning curve\n",
        "plot_learning_curve(history)\n"
      ],
      "metadata": {
        "id": "JfEClzC3SQBf",
        "colab": {
          "base_uri": "https://localhost:8080/",
          "height": 494
        },
        "outputId": "30766548-84f1-4452-c13f-0782a545914b"
      },
      "execution_count": null,
      "outputs": [
        {
          "output_type": "display_data",
          "data": {
            "text/plain": [
              "<Figure size 1200x500 with 2 Axes>"
            ],
            "image/png": "[encoded data removed]"
          },
          "metadata": {}
        }
      ]
    },
    {
      "cell_type": "code",
      "source": [
        "# Plot confusion matrix for the test set\n",
        "plot_confusion_matrix(model, X_test, y_test)"
      ],
      "metadata": {
        "id": "2SxayEt0Sb6K",
        "colab": {
          "base_uri": "https://localhost:8080/",
          "height": 489
        },
        "outputId": "fde4d691-ac2e-45ce-8a85-d58d39a99af1"
      },
      "execution_count": null,
      "outputs": [
        {
          "output_type": "stream",
          "name": "stdout",
          "text": [
            "\u001b[1m3/3\u001b[0m \u001b[32m━━━━━━━━━━━━━━━━━━━━\u001b[0m\u001b[37m\u001b[0m \u001b[1m1s\u001b[0m 333ms/step\n"
          ]
        },
        {
          "output_type": "display_data",
          "data": {
            "text/plain": [
              "<Figure size 640x480 with 2 Axes>"
            ],
            "image/png": "[encoded data removed]"
          },
          "metadata": {}
        }
      ]
    },
    {
      "cell_type": "markdown",
      "source": [
        "# 7. MODEL INTERPRETATION\n",
        "\n",
        "\n",
        "For interpreting the model and explain the prediction results, I used saliency maps because they highlight how individual input features influence the model's prediction by backtracking through the network. They compute the gradient of the output with respect to the input, and this effectively shows which input features caused the greatest change in the output. This reflects how the weights of neurons in the network interact with the input features.\n",
        "\n",
        "\n",
        "\n",
        "\n",
        "\n",
        "\n",
        "\n",
        "<font color='red'>CHANGE</font>: In the written solution it was not specifically written that I would use saliency maps. However, as explained above, they work by backtracking through the network and also their working reflects how the neuron weights are associated with the input which is what I mentioned in the written solution."
      ],
      "metadata": {
        "id": "xuoOcw4l81MT"
      }
    },
    {
      "cell_type": "code",
      "source": [
        "# Define a function to compute saliency map\n",
        "def compute_saliency(model, sample):\n",
        "    with tf.GradientTape() as tape:\n",
        "        tape.watch(sample)  # Watch the input for gradients\n",
        "        prediction = model(sample)\n",
        "\n",
        "    # Compute the gradient of the predicted class with respect to the input\n",
        "    gradient = tape.gradient(prediction, sample)\n",
        "\n",
        "    # Take the absolute value of the gradient\n",
        "    saliency = np.abs(gradient)\n",
        "\n",
        "    return saliency\n",
        "\n",
        "# Select a sample from the test set and convert to Tensor\n",
        "sample_idx = 0\n",
        "sample = X_test.iloc[sample_idx:sample_idx + 1]  # Assuming X_test is a DataFrame\n",
        "\n",
        "# Convert the sample to a NumPy array or Tensor\n",
        "sample_array = np.array(sample)\n",
        "sample_tensor = tf.convert_to_tensor(sample_array, dtype=tf.float32)\n",
        "\n",
        "# Compute the saliency map\n",
        "saliency_map = compute_saliency(model, sample_tensor)"
      ],
      "metadata": {
        "id": "J_KWWmQ0ofAy"
      },
      "execution_count": null,
      "outputs": []
    },
    {
      "cell_type": "code",
      "source": [
        "# Define feature indices\n",
        "feature_indices = np.arange(saliency_map.shape[1])\n",
        "\n",
        "# Plot the saliency map\n",
        "plt.figure(figsize=(12, 6))\n",
        "plt.plot(feature_indices, saliency_map[0], color='blue', marker='o', linestyle='-', linewidth=2, markersize=6)\n",
        "\n",
        "# Highlight important features (e.g., top 5 features)\n",
        "top_features = np.argsort(saliency_map[0])[-5:]  # Indices of top 5 features\n",
        "plt.scatter(top_features, saliency_map[0][top_features], color='red', zorder=5, label='Top 5 Features')\n",
        "\n",
        "# Annotate top features\n",
        "for idx in top_features:\n",
        "    plt.annotate(f'{idx}', (idx, saliency_map[0][idx]), textcoords=\"offset points\", xytext=(0,10), ha='center')\n",
        "\n",
        "# Add gridlines\n",
        "plt.grid(True, which='both', linestyle='--', linewidth=0.7)\n",
        "\n",
        "# Add labels and title\n",
        "plt.title('Saliency Map')\n",
        "plt.xlabel('Feature Index')\n",
        "plt.ylabel('Saliency Score')\n",
        "\n",
        "# Add a legend\n",
        "plt.legend()\n",
        "\n",
        "# Show the plot\n",
        "plt.show()\n"
      ],
      "metadata": {
        "id": "qJ_yX4_RogHO",
        "colab": {
          "base_uri": "https://localhost:8080/",
          "height": 564
        },
        "outputId": "05a221c0-2cf0-4111-e52a-0dc791ce47c5"
      },
      "execution_count": null,
      "outputs": [
        {
          "output_type": "display_data",
          "data": {
            "text/plain": [
              "<Figure size 1200x600 with 1 Axes>"
            ],
            "image/png": "[encoded data removed]"
          },
          "metadata": {}
        }
      ]
    },
    {
      "cell_type": "markdown",
      "source": [
        "# CONCLUSION\n",
        "\n",
        "In conclusion, the model works well and it is able to predict the classes associated with the input.\n",
        "\n",
        "\n",
        "The model can be improved by increasing its complexity, optimizing more parameters, and increasing the number of epochs.\n",
        "\n"
      ],
      "metadata": {
        "id": "kqbBnHTRbbvG"
      }
    }
  ]
}